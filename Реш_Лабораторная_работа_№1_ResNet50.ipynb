{
  "nbformat": 4,
  "nbformat_minor": 0,
  "metadata": {
    "colab": {
      "provenance": [],
      "gpuType": "T4"
    },
    "kernelspec": {
      "name": "python3",
      "display_name": "Python 3"
    },
    "language_info": {
      "name": "python"
    },
    "widgets": {
      "application/vnd.jupyter.widget-state+json": {
        "c4e6b118113446f1839de154e13e3075": {
          "model_module": "@jupyter-widgets/controls",
          "model_name": "HBoxModel",
          "model_module_version": "1.5.0",
          "state": {
            "_dom_classes": [],
            "_model_module": "@jupyter-widgets/controls",
            "_model_module_version": "1.5.0",
            "_model_name": "HBoxModel",
            "_view_count": null,
            "_view_module": "@jupyter-widgets/controls",
            "_view_module_version": "1.5.0",
            "_view_name": "HBoxView",
            "box_style": "",
            "children": [
              "IPY_MODEL_d071ddb710b3415280c19ddbbe9084a8",
              "IPY_MODEL_a5aa69e4b2814d9598fa0bcd044f8a2b",
              "IPY_MODEL_a4c10536fe1e4e849cabdb18cbd40338"
            ],
            "layout": "IPY_MODEL_b0c0ebff5b2543f3abdb3b65b2eb1639"
          }
        },
        "d071ddb710b3415280c19ddbbe9084a8": {
          "model_module": "@jupyter-widgets/controls",
          "model_name": "HTMLModel",
          "model_module_version": "1.5.0",
          "state": {
            "_dom_classes": [],
            "_model_module": "@jupyter-widgets/controls",
            "_model_module_version": "1.5.0",
            "_model_name": "HTMLModel",
            "_view_count": null,
            "_view_module": "@jupyter-widgets/controls",
            "_view_module_version": "1.5.0",
            "_view_name": "HTMLView",
            "description": "",
            "description_tooltip": null,
            "layout": "IPY_MODEL_cf3f8f94ac1043039230b13d9fa2ae8f",
            "placeholder": "​",
            "style": "IPY_MODEL_9af2e4555a2849dbb1ad8dfb9ab2b2c0",
            "value": "README.md: 100%"
          }
        },
        "a5aa69e4b2814d9598fa0bcd044f8a2b": {
          "model_module": "@jupyter-widgets/controls",
          "model_name": "FloatProgressModel",
          "model_module_version": "1.5.0",
          "state": {
            "_dom_classes": [],
            "_model_module": "@jupyter-widgets/controls",
            "_model_module_version": "1.5.0",
            "_model_name": "FloatProgressModel",
            "_view_count": null,
            "_view_module": "@jupyter-widgets/controls",
            "_view_module_version": "1.5.0",
            "_view_name": "ProgressView",
            "bar_style": "success",
            "description": "",
            "description_tooltip": null,
            "layout": "IPY_MODEL_fa15ff28420d47b5bed1ae45e6c95f9f",
            "max": 9984,
            "min": 0,
            "orientation": "horizontal",
            "style": "IPY_MODEL_b81960425cdd41868274d2dd98d7149c",
            "value": 9984
          }
        },
        "a4c10536fe1e4e849cabdb18cbd40338": {
          "model_module": "@jupyter-widgets/controls",
          "model_name": "HTMLModel",
          "model_module_version": "1.5.0",
          "state": {
            "_dom_classes": [],
            "_model_module": "@jupyter-widgets/controls",
            "_model_module_version": "1.5.0",
            "_model_name": "HTMLModel",
            "_view_count": null,
            "_view_module": "@jupyter-widgets/controls",
            "_view_module_version": "1.5.0",
            "_view_name": "HTMLView",
            "description": "",
            "description_tooltip": null,
            "layout": "IPY_MODEL_529330da557443b3b302a22d58c96259",
            "placeholder": "​",
            "style": "IPY_MODEL_7e6ae11910c74ca18f1264b6ee496fed",
            "value": " 9.98k/9.98k [00:00&lt;00:00, 493kB/s]"
          }
        },
        "b0c0ebff5b2543f3abdb3b65b2eb1639": {
          "model_module": "@jupyter-widgets/base",
          "model_name": "LayoutModel",
          "model_module_version": "1.2.0",
          "state": {
            "_model_module": "@jupyter-widgets/base",
            "_model_module_version": "1.2.0",
            "_model_name": "LayoutModel",
            "_view_count": null,
            "_view_module": "@jupyter-widgets/base",
            "_view_module_version": "1.2.0",
            "_view_name": "LayoutView",
            "align_content": null,
            "align_items": null,
            "align_self": null,
            "border": null,
            "bottom": null,
            "display": null,
            "flex": null,
            "flex_flow": null,
            "grid_area": null,
            "grid_auto_columns": null,
            "grid_auto_flow": null,
            "grid_auto_rows": null,
            "grid_column": null,
            "grid_gap": null,
            "grid_row": null,
            "grid_template_areas": null,
            "grid_template_columns": null,
            "grid_template_rows": null,
            "height": null,
            "justify_content": null,
            "justify_items": null,
            "left": null,
            "margin": null,
            "max_height": null,
            "max_width": null,
            "min_height": null,
            "min_width": null,
            "object_fit": null,
            "object_position": null,
            "order": null,
            "overflow": null,
            "overflow_x": null,
            "overflow_y": null,
            "padding": null,
            "right": null,
            "top": null,
            "visibility": null,
            "width": null
          }
        },
        "cf3f8f94ac1043039230b13d9fa2ae8f": {
          "model_module": "@jupyter-widgets/base",
          "model_name": "LayoutModel",
          "model_module_version": "1.2.0",
          "state": {
            "_model_module": "@jupyter-widgets/base",
            "_model_module_version": "1.2.0",
            "_model_name": "LayoutModel",
            "_view_count": null,
            "_view_module": "@jupyter-widgets/base",
            "_view_module_version": "1.2.0",
            "_view_name": "LayoutView",
            "align_content": null,
            "align_items": null,
            "align_self": null,
            "border": null,
            "bottom": null,
            "display": null,
            "flex": null,
            "flex_flow": null,
            "grid_area": null,
            "grid_auto_columns": null,
            "grid_auto_flow": null,
            "grid_auto_rows": null,
            "grid_column": null,
            "grid_gap": null,
            "grid_row": null,
            "grid_template_areas": null,
            "grid_template_columns": null,
            "grid_template_rows": null,
            "height": null,
            "justify_content": null,
            "justify_items": null,
            "left": null,
            "margin": null,
            "max_height": null,
            "max_width": null,
            "min_height": null,
            "min_width": null,
            "object_fit": null,
            "object_position": null,
            "order": null,
            "overflow": null,
            "overflow_x": null,
            "overflow_y": null,
            "padding": null,
            "right": null,
            "top": null,
            "visibility": null,
            "width": null
          }
        },
        "9af2e4555a2849dbb1ad8dfb9ab2b2c0": {
          "model_module": "@jupyter-widgets/controls",
          "model_name": "DescriptionStyleModel",
          "model_module_version": "1.5.0",
          "state": {
            "_model_module": "@jupyter-widgets/controls",
            "_model_module_version": "1.5.0",
            "_model_name": "DescriptionStyleModel",
            "_view_count": null,
            "_view_module": "@jupyter-widgets/base",
            "_view_module_version": "1.2.0",
            "_view_name": "StyleView",
            "description_width": ""
          }
        },
        "fa15ff28420d47b5bed1ae45e6c95f9f": {
          "model_module": "@jupyter-widgets/base",
          "model_name": "LayoutModel",
          "model_module_version": "1.2.0",
          "state": {
            "_model_module": "@jupyter-widgets/base",
            "_model_module_version": "1.2.0",
            "_model_name": "LayoutModel",
            "_view_count": null,
            "_view_module": "@jupyter-widgets/base",
            "_view_module_version": "1.2.0",
            "_view_name": "LayoutView",
            "align_content": null,
            "align_items": null,
            "align_self": null,
            "border": null,
            "bottom": null,
            "display": null,
            "flex": null,
            "flex_flow": null,
            "grid_area": null,
            "grid_auto_columns": null,
            "grid_auto_flow": null,
            "grid_auto_rows": null,
            "grid_column": null,
            "grid_gap": null,
            "grid_row": null,
            "grid_template_areas": null,
            "grid_template_columns": null,
            "grid_template_rows": null,
            "height": null,
            "justify_content": null,
            "justify_items": null,
            "left": null,
            "margin": null,
            "max_height": null,
            "max_width": null,
            "min_height": null,
            "min_width": null,
            "object_fit": null,
            "object_position": null,
            "order": null,
            "overflow": null,
            "overflow_x": null,
            "overflow_y": null,
            "padding": null,
            "right": null,
            "top": null,
            "visibility": null,
            "width": null
          }
        },
        "b81960425cdd41868274d2dd98d7149c": {
          "model_module": "@jupyter-widgets/controls",
          "model_name": "ProgressStyleModel",
          "model_module_version": "1.5.0",
          "state": {
            "_model_module": "@jupyter-widgets/controls",
            "_model_module_version": "1.5.0",
            "_model_name": "ProgressStyleModel",
            "_view_count": null,
            "_view_module": "@jupyter-widgets/base",
            "_view_module_version": "1.2.0",
            "_view_name": "StyleView",
            "bar_color": null,
            "description_width": ""
          }
        },
        "529330da557443b3b302a22d58c96259": {
          "model_module": "@jupyter-widgets/base",
          "model_name": "LayoutModel",
          "model_module_version": "1.2.0",
          "state": {
            "_model_module": "@jupyter-widgets/base",
            "_model_module_version": "1.2.0",
            "_model_name": "LayoutModel",
            "_view_count": null,
            "_view_module": "@jupyter-widgets/base",
            "_view_module_version": "1.2.0",
            "_view_name": "LayoutView",
            "align_content": null,
            "align_items": null,
            "align_self": null,
            "border": null,
            "bottom": null,
            "display": null,
            "flex": null,
            "flex_flow": null,
            "grid_area": null,
            "grid_auto_columns": null,
            "grid_auto_flow": null,
            "grid_auto_rows": null,
            "grid_column": null,
            "grid_gap": null,
            "grid_row": null,
            "grid_template_areas": null,
            "grid_template_columns": null,
            "grid_template_rows": null,
            "height": null,
            "justify_content": null,
            "justify_items": null,
            "left": null,
            "margin": null,
            "max_height": null,
            "max_width": null,
            "min_height": null,
            "min_width": null,
            "object_fit": null,
            "object_position": null,
            "order": null,
            "overflow": null,
            "overflow_x": null,
            "overflow_y": null,
            "padding": null,
            "right": null,
            "top": null,
            "visibility": null,
            "width": null
          }
        },
        "7e6ae11910c74ca18f1264b6ee496fed": {
          "model_module": "@jupyter-widgets/controls",
          "model_name": "DescriptionStyleModel",
          "model_module_version": "1.5.0",
          "state": {
            "_model_module": "@jupyter-widgets/controls",
            "_model_module_version": "1.5.0",
            "_model_name": "DescriptionStyleModel",
            "_view_count": null,
            "_view_module": "@jupyter-widgets/base",
            "_view_module_version": "1.2.0",
            "_view_name": "StyleView",
            "description_width": ""
          }
        },
        "549e109ad3e24ef9914f507a966147d4": {
          "model_module": "@jupyter-widgets/controls",
          "model_name": "HBoxModel",
          "model_module_version": "1.5.0",
          "state": {
            "_dom_classes": [],
            "_model_module": "@jupyter-widgets/controls",
            "_model_module_version": "1.5.0",
            "_model_name": "HBoxModel",
            "_view_count": null,
            "_view_module": "@jupyter-widgets/controls",
            "_view_module_version": "1.5.0",
            "_view_name": "HBoxView",
            "box_style": "",
            "children": [
              "IPY_MODEL_ea81ac359a7c4045999554f87fe028db",
              "IPY_MODEL_11a7b166878b4a0d87cc92c193a4ad82",
              "IPY_MODEL_6ddc4e38609e492c882b2e092bbe0728"
            ],
            "layout": "IPY_MODEL_86328b048edf4ef2a06421653d122661"
          }
        },
        "ea81ac359a7c4045999554f87fe028db": {
          "model_module": "@jupyter-widgets/controls",
          "model_name": "HTMLModel",
          "model_module_version": "1.5.0",
          "state": {
            "_dom_classes": [],
            "_model_module": "@jupyter-widgets/controls",
            "_model_module_version": "1.5.0",
            "_model_name": "HTMLModel",
            "_view_count": null,
            "_view_module": "@jupyter-widgets/controls",
            "_view_module_version": "1.5.0",
            "_view_name": "HTMLView",
            "description": "",
            "description_tooltip": null,
            "layout": "IPY_MODEL_d014d19131c944ce813c6e9dc8ae9f1e",
            "placeholder": "​",
            "style": "IPY_MODEL_6b0209a41b8a450580e9e8b2b73e16a4",
            "value": "train-00000-of-00001.parquet: 100%"
          }
        },
        "11a7b166878b4a0d87cc92c193a4ad82": {
          "model_module": "@jupyter-widgets/controls",
          "model_name": "FloatProgressModel",
          "model_module_version": "1.5.0",
          "state": {
            "_dom_classes": [],
            "_model_module": "@jupyter-widgets/controls",
            "_model_module_version": "1.5.0",
            "_model_name": "FloatProgressModel",
            "_view_count": null,
            "_view_module": "@jupyter-widgets/controls",
            "_view_module_version": "1.5.0",
            "_view_name": "ProgressView",
            "bar_style": "success",
            "description": "",
            "description_tooltip": null,
            "layout": "IPY_MODEL_fd58bf1b1088435fa514e0234d9ad5d5",
            "max": 118518617,
            "min": 0,
            "orientation": "horizontal",
            "style": "IPY_MODEL_f4c65daa3a98471b9837f8fad3915ca4",
            "value": 118518617
          }
        },
        "6ddc4e38609e492c882b2e092bbe0728": {
          "model_module": "@jupyter-widgets/controls",
          "model_name": "HTMLModel",
          "model_module_version": "1.5.0",
          "state": {
            "_dom_classes": [],
            "_model_module": "@jupyter-widgets/controls",
            "_model_module_version": "1.5.0",
            "_model_name": "HTMLModel",
            "_view_count": null,
            "_view_module": "@jupyter-widgets/controls",
            "_view_module_version": "1.5.0",
            "_view_name": "HTMLView",
            "description": "",
            "description_tooltip": null,
            "layout": "IPY_MODEL_a418f5e451f0489d8210c78aaa34b3d4",
            "placeholder": "​",
            "style": "IPY_MODEL_b6e41748b0d34aee8c2f3223edea2f1e",
            "value": " 119M/119M [00:02&lt;00:00, 56.3MB/s]"
          }
        },
        "86328b048edf4ef2a06421653d122661": {
          "model_module": "@jupyter-widgets/base",
          "model_name": "LayoutModel",
          "model_module_version": "1.2.0",
          "state": {
            "_model_module": "@jupyter-widgets/base",
            "_model_module_version": "1.2.0",
            "_model_name": "LayoutModel",
            "_view_count": null,
            "_view_module": "@jupyter-widgets/base",
            "_view_module_version": "1.2.0",
            "_view_name": "LayoutView",
            "align_content": null,
            "align_items": null,
            "align_self": null,
            "border": null,
            "bottom": null,
            "display": null,
            "flex": null,
            "flex_flow": null,
            "grid_area": null,
            "grid_auto_columns": null,
            "grid_auto_flow": null,
            "grid_auto_rows": null,
            "grid_column": null,
            "grid_gap": null,
            "grid_row": null,
            "grid_template_areas": null,
            "grid_template_columns": null,
            "grid_template_rows": null,
            "height": null,
            "justify_content": null,
            "justify_items": null,
            "left": null,
            "margin": null,
            "max_height": null,
            "max_width": null,
            "min_height": null,
            "min_width": null,
            "object_fit": null,
            "object_position": null,
            "order": null,
            "overflow": null,
            "overflow_x": null,
            "overflow_y": null,
            "padding": null,
            "right": null,
            "top": null,
            "visibility": null,
            "width": null
          }
        },
        "d014d19131c944ce813c6e9dc8ae9f1e": {
          "model_module": "@jupyter-widgets/base",
          "model_name": "LayoutModel",
          "model_module_version": "1.2.0",
          "state": {
            "_model_module": "@jupyter-widgets/base",
            "_model_module_version": "1.2.0",
            "_model_name": "LayoutModel",
            "_view_count": null,
            "_view_module": "@jupyter-widgets/base",
            "_view_module_version": "1.2.0",
            "_view_name": "LayoutView",
            "align_content": null,
            "align_items": null,
            "align_self": null,
            "border": null,
            "bottom": null,
            "display": null,
            "flex": null,
            "flex_flow": null,
            "grid_area": null,
            "grid_auto_columns": null,
            "grid_auto_flow": null,
            "grid_auto_rows": null,
            "grid_column": null,
            "grid_gap": null,
            "grid_row": null,
            "grid_template_areas": null,
            "grid_template_columns": null,
            "grid_template_rows": null,
            "height": null,
            "justify_content": null,
            "justify_items": null,
            "left": null,
            "margin": null,
            "max_height": null,
            "max_width": null,
            "min_height": null,
            "min_width": null,
            "object_fit": null,
            "object_position": null,
            "order": null,
            "overflow": null,
            "overflow_x": null,
            "overflow_y": null,
            "padding": null,
            "right": null,
            "top": null,
            "visibility": null,
            "width": null
          }
        },
        "6b0209a41b8a450580e9e8b2b73e16a4": {
          "model_module": "@jupyter-widgets/controls",
          "model_name": "DescriptionStyleModel",
          "model_module_version": "1.5.0",
          "state": {
            "_model_module": "@jupyter-widgets/controls",
            "_model_module_version": "1.5.0",
            "_model_name": "DescriptionStyleModel",
            "_view_count": null,
            "_view_module": "@jupyter-widgets/base",
            "_view_module_version": "1.2.0",
            "_view_name": "StyleView",
            "description_width": ""
          }
        },
        "fd58bf1b1088435fa514e0234d9ad5d5": {
          "model_module": "@jupyter-widgets/base",
          "model_name": "LayoutModel",
          "model_module_version": "1.2.0",
          "state": {
            "_model_module": "@jupyter-widgets/base",
            "_model_module_version": "1.2.0",
            "_model_name": "LayoutModel",
            "_view_count": null,
            "_view_module": "@jupyter-widgets/base",
            "_view_module_version": "1.2.0",
            "_view_name": "LayoutView",
            "align_content": null,
            "align_items": null,
            "align_self": null,
            "border": null,
            "bottom": null,
            "display": null,
            "flex": null,
            "flex_flow": null,
            "grid_area": null,
            "grid_auto_columns": null,
            "grid_auto_flow": null,
            "grid_auto_rows": null,
            "grid_column": null,
            "grid_gap": null,
            "grid_row": null,
            "grid_template_areas": null,
            "grid_template_columns": null,
            "grid_template_rows": null,
            "height": null,
            "justify_content": null,
            "justify_items": null,
            "left": null,
            "margin": null,
            "max_height": null,
            "max_width": null,
            "min_height": null,
            "min_width": null,
            "object_fit": null,
            "object_position": null,
            "order": null,
            "overflow": null,
            "overflow_x": null,
            "overflow_y": null,
            "padding": null,
            "right": null,
            "top": null,
            "visibility": null,
            "width": null
          }
        },
        "f4c65daa3a98471b9837f8fad3915ca4": {
          "model_module": "@jupyter-widgets/controls",
          "model_name": "ProgressStyleModel",
          "model_module_version": "1.5.0",
          "state": {
            "_model_module": "@jupyter-widgets/controls",
            "_model_module_version": "1.5.0",
            "_model_name": "ProgressStyleModel",
            "_view_count": null,
            "_view_module": "@jupyter-widgets/base",
            "_view_module_version": "1.2.0",
            "_view_name": "StyleView",
            "bar_color": null,
            "description_width": ""
          }
        },
        "a418f5e451f0489d8210c78aaa34b3d4": {
          "model_module": "@jupyter-widgets/base",
          "model_name": "LayoutModel",
          "model_module_version": "1.2.0",
          "state": {
            "_model_module": "@jupyter-widgets/base",
            "_model_module_version": "1.2.0",
            "_model_name": "LayoutModel",
            "_view_count": null,
            "_view_module": "@jupyter-widgets/base",
            "_view_module_version": "1.2.0",
            "_view_name": "LayoutView",
            "align_content": null,
            "align_items": null,
            "align_self": null,
            "border": null,
            "bottom": null,
            "display": null,
            "flex": null,
            "flex_flow": null,
            "grid_area": null,
            "grid_auto_columns": null,
            "grid_auto_flow": null,
            "grid_auto_rows": null,
            "grid_column": null,
            "grid_gap": null,
            "grid_row": null,
            "grid_template_areas": null,
            "grid_template_columns": null,
            "grid_template_rows": null,
            "height": null,
            "justify_content": null,
            "justify_items": null,
            "left": null,
            "margin": null,
            "max_height": null,
            "max_width": null,
            "min_height": null,
            "min_width": null,
            "object_fit": null,
            "object_position": null,
            "order": null,
            "overflow": null,
            "overflow_x": null,
            "overflow_y": null,
            "padding": null,
            "right": null,
            "top": null,
            "visibility": null,
            "width": null
          }
        },
        "b6e41748b0d34aee8c2f3223edea2f1e": {
          "model_module": "@jupyter-widgets/controls",
          "model_name": "DescriptionStyleModel",
          "model_module_version": "1.5.0",
          "state": {
            "_model_module": "@jupyter-widgets/controls",
            "_model_module_version": "1.5.0",
            "_model_name": "DescriptionStyleModel",
            "_view_count": null,
            "_view_module": "@jupyter-widgets/base",
            "_view_module_version": "1.2.0",
            "_view_name": "StyleView",
            "description_width": ""
          }
        },
        "8e927ece6cd74d659329de3176f1c526": {
          "model_module": "@jupyter-widgets/controls",
          "model_name": "HBoxModel",
          "model_module_version": "1.5.0",
          "state": {
            "_dom_classes": [],
            "_model_module": "@jupyter-widgets/controls",
            "_model_module_version": "1.5.0",
            "_model_name": "HBoxModel",
            "_view_count": null,
            "_view_module": "@jupyter-widgets/controls",
            "_view_module_version": "1.5.0",
            "_view_name": "HBoxView",
            "box_style": "",
            "children": [
              "IPY_MODEL_efa0ec6ad66e4221bfceab9e54b3b7c0",
              "IPY_MODEL_989ed6c39af2459f9b921277d7b89150",
              "IPY_MODEL_d2abd7b7287c4be6bbda31370111155f"
            ],
            "layout": "IPY_MODEL_c7368b9fa9fa40e8882caeae714ab8af"
          }
        },
        "efa0ec6ad66e4221bfceab9e54b3b7c0": {
          "model_module": "@jupyter-widgets/controls",
          "model_name": "HTMLModel",
          "model_module_version": "1.5.0",
          "state": {
            "_dom_classes": [],
            "_model_module": "@jupyter-widgets/controls",
            "_model_module_version": "1.5.0",
            "_model_name": "HTMLModel",
            "_view_count": null,
            "_view_module": "@jupyter-widgets/controls",
            "_view_module_version": "1.5.0",
            "_view_name": "HTMLView",
            "description": "",
            "description_tooltip": null,
            "layout": "IPY_MODEL_c5c921790f594c1dbed4dccba7b5ce84",
            "placeholder": "​",
            "style": "IPY_MODEL_a09a0e24badb4710b9888249753a2f98",
            "value": "test-00000-of-00001.parquet: 100%"
          }
        },
        "989ed6c39af2459f9b921277d7b89150": {
          "model_module": "@jupyter-widgets/controls",
          "model_name": "FloatProgressModel",
          "model_module_version": "1.5.0",
          "state": {
            "_dom_classes": [],
            "_model_module": "@jupyter-widgets/controls",
            "_model_module_version": "1.5.0",
            "_model_name": "FloatProgressModel",
            "_view_count": null,
            "_view_module": "@jupyter-widgets/controls",
            "_view_module_version": "1.5.0",
            "_view_name": "ProgressView",
            "bar_style": "success",
            "description": "",
            "description_tooltip": null,
            "layout": "IPY_MODEL_18f4a7ff76a645a78616546e3c6776a2",
            "max": 23772751,
            "min": 0,
            "orientation": "horizontal",
            "style": "IPY_MODEL_bc499d62f1e641f896e21994f710cc68",
            "value": 23772751
          }
        },
        "d2abd7b7287c4be6bbda31370111155f": {
          "model_module": "@jupyter-widgets/controls",
          "model_name": "HTMLModel",
          "model_module_version": "1.5.0",
          "state": {
            "_dom_classes": [],
            "_model_module": "@jupyter-widgets/controls",
            "_model_module_version": "1.5.0",
            "_model_name": "HTMLModel",
            "_view_count": null,
            "_view_module": "@jupyter-widgets/controls",
            "_view_module_version": "1.5.0",
            "_view_name": "HTMLView",
            "description": "",
            "description_tooltip": null,
            "layout": "IPY_MODEL_0fbda472ad8d4311ace6e3f7c6b4e4f2",
            "placeholder": "​",
            "style": "IPY_MODEL_58836b0404cf44acaec894d0d0f1f40d",
            "value": " 23.8M/23.8M [00:00&lt;00:00, 43.8MB/s]"
          }
        },
        "c7368b9fa9fa40e8882caeae714ab8af": {
          "model_module": "@jupyter-widgets/base",
          "model_name": "LayoutModel",
          "model_module_version": "1.2.0",
          "state": {
            "_model_module": "@jupyter-widgets/base",
            "_model_module_version": "1.2.0",
            "_model_name": "LayoutModel",
            "_view_count": null,
            "_view_module": "@jupyter-widgets/base",
            "_view_module_version": "1.2.0",
            "_view_name": "LayoutView",
            "align_content": null,
            "align_items": null,
            "align_self": null,
            "border": null,
            "bottom": null,
            "display": null,
            "flex": null,
            "flex_flow": null,
            "grid_area": null,
            "grid_auto_columns": null,
            "grid_auto_flow": null,
            "grid_auto_rows": null,
            "grid_column": null,
            "grid_gap": null,
            "grid_row": null,
            "grid_template_areas": null,
            "grid_template_columns": null,
            "grid_template_rows": null,
            "height": null,
            "justify_content": null,
            "justify_items": null,
            "left": null,
            "margin": null,
            "max_height": null,
            "max_width": null,
            "min_height": null,
            "min_width": null,
            "object_fit": null,
            "object_position": null,
            "order": null,
            "overflow": null,
            "overflow_x": null,
            "overflow_y": null,
            "padding": null,
            "right": null,
            "top": null,
            "visibility": null,
            "width": null
          }
        },
        "c5c921790f594c1dbed4dccba7b5ce84": {
          "model_module": "@jupyter-widgets/base",
          "model_name": "LayoutModel",
          "model_module_version": "1.2.0",
          "state": {
            "_model_module": "@jupyter-widgets/base",
            "_model_module_version": "1.2.0",
            "_model_name": "LayoutModel",
            "_view_count": null,
            "_view_module": "@jupyter-widgets/base",
            "_view_module_version": "1.2.0",
            "_view_name": "LayoutView",
            "align_content": null,
            "align_items": null,
            "align_self": null,
            "border": null,
            "bottom": null,
            "display": null,
            "flex": null,
            "flex_flow": null,
            "grid_area": null,
            "grid_auto_columns": null,
            "grid_auto_flow": null,
            "grid_auto_rows": null,
            "grid_column": null,
            "grid_gap": null,
            "grid_row": null,
            "grid_template_areas": null,
            "grid_template_columns": null,
            "grid_template_rows": null,
            "height": null,
            "justify_content": null,
            "justify_items": null,
            "left": null,
            "margin": null,
            "max_height": null,
            "max_width": null,
            "min_height": null,
            "min_width": null,
            "object_fit": null,
            "object_position": null,
            "order": null,
            "overflow": null,
            "overflow_x": null,
            "overflow_y": null,
            "padding": null,
            "right": null,
            "top": null,
            "visibility": null,
            "width": null
          }
        },
        "a09a0e24badb4710b9888249753a2f98": {
          "model_module": "@jupyter-widgets/controls",
          "model_name": "DescriptionStyleModel",
          "model_module_version": "1.5.0",
          "state": {
            "_model_module": "@jupyter-widgets/controls",
            "_model_module_version": "1.5.0",
            "_model_name": "DescriptionStyleModel",
            "_view_count": null,
            "_view_module": "@jupyter-widgets/base",
            "_view_module_version": "1.2.0",
            "_view_name": "StyleView",
            "description_width": ""
          }
        },
        "18f4a7ff76a645a78616546e3c6776a2": {
          "model_module": "@jupyter-widgets/base",
          "model_name": "LayoutModel",
          "model_module_version": "1.2.0",
          "state": {
            "_model_module": "@jupyter-widgets/base",
            "_model_module_version": "1.2.0",
            "_model_name": "LayoutModel",
            "_view_count": null,
            "_view_module": "@jupyter-widgets/base",
            "_view_module_version": "1.2.0",
            "_view_name": "LayoutView",
            "align_content": null,
            "align_items": null,
            "align_self": null,
            "border": null,
            "bottom": null,
            "display": null,
            "flex": null,
            "flex_flow": null,
            "grid_area": null,
            "grid_auto_columns": null,
            "grid_auto_flow": null,
            "grid_auto_rows": null,
            "grid_column": null,
            "grid_gap": null,
            "grid_row": null,
            "grid_template_areas": null,
            "grid_template_columns": null,
            "grid_template_rows": null,
            "height": null,
            "justify_content": null,
            "justify_items": null,
            "left": null,
            "margin": null,
            "max_height": null,
            "max_width": null,
            "min_height": null,
            "min_width": null,
            "object_fit": null,
            "object_position": null,
            "order": null,
            "overflow": null,
            "overflow_x": null,
            "overflow_y": null,
            "padding": null,
            "right": null,
            "top": null,
            "visibility": null,
            "width": null
          }
        },
        "bc499d62f1e641f896e21994f710cc68": {
          "model_module": "@jupyter-widgets/controls",
          "model_name": "ProgressStyleModel",
          "model_module_version": "1.5.0",
          "state": {
            "_model_module": "@jupyter-widgets/controls",
            "_model_module_version": "1.5.0",
            "_model_name": "ProgressStyleModel",
            "_view_count": null,
            "_view_module": "@jupyter-widgets/base",
            "_view_module_version": "1.2.0",
            "_view_name": "StyleView",
            "bar_color": null,
            "description_width": ""
          }
        },
        "0fbda472ad8d4311ace6e3f7c6b4e4f2": {
          "model_module": "@jupyter-widgets/base",
          "model_name": "LayoutModel",
          "model_module_version": "1.2.0",
          "state": {
            "_model_module": "@jupyter-widgets/base",
            "_model_module_version": "1.2.0",
            "_model_name": "LayoutModel",
            "_view_count": null,
            "_view_module": "@jupyter-widgets/base",
            "_view_module_version": "1.2.0",
            "_view_name": "LayoutView",
            "align_content": null,
            "align_items": null,
            "align_self": null,
            "border": null,
            "bottom": null,
            "display": null,
            "flex": null,
            "flex_flow": null,
            "grid_area": null,
            "grid_auto_columns": null,
            "grid_auto_flow": null,
            "grid_auto_rows": null,
            "grid_column": null,
            "grid_gap": null,
            "grid_row": null,
            "grid_template_areas": null,
            "grid_template_columns": null,
            "grid_template_rows": null,
            "height": null,
            "justify_content": null,
            "justify_items": null,
            "left": null,
            "margin": null,
            "max_height": null,
            "max_width": null,
            "min_height": null,
            "min_width": null,
            "object_fit": null,
            "object_position": null,
            "order": null,
            "overflow": null,
            "overflow_x": null,
            "overflow_y": null,
            "padding": null,
            "right": null,
            "top": null,
            "visibility": null,
            "width": null
          }
        },
        "58836b0404cf44acaec894d0d0f1f40d": {
          "model_module": "@jupyter-widgets/controls",
          "model_name": "DescriptionStyleModel",
          "model_module_version": "1.5.0",
          "state": {
            "_model_module": "@jupyter-widgets/controls",
            "_model_module_version": "1.5.0",
            "_model_name": "DescriptionStyleModel",
            "_view_count": null,
            "_view_module": "@jupyter-widgets/base",
            "_view_module_version": "1.2.0",
            "_view_name": "StyleView",
            "description_width": ""
          }
        },
        "c1e4a2f8e69744acb14d0544949c439e": {
          "model_module": "@jupyter-widgets/controls",
          "model_name": "HBoxModel",
          "model_module_version": "1.5.0",
          "state": {
            "_dom_classes": [],
            "_model_module": "@jupyter-widgets/controls",
            "_model_module_version": "1.5.0",
            "_model_name": "HBoxModel",
            "_view_count": null,
            "_view_module": "@jupyter-widgets/controls",
            "_view_module_version": "1.5.0",
            "_view_name": "HBoxView",
            "box_style": "",
            "children": [
              "IPY_MODEL_18547962548847a698c03feb7a110c62",
              "IPY_MODEL_fb6689c9741841ee810957ac385ebb0c",
              "IPY_MODEL_ce6f8f0fe5224d51af2eae95d8b5ac0d"
            ],
            "layout": "IPY_MODEL_7f5d9671eccb401abbf4c95605b121f1"
          }
        },
        "18547962548847a698c03feb7a110c62": {
          "model_module": "@jupyter-widgets/controls",
          "model_name": "HTMLModel",
          "model_module_version": "1.5.0",
          "state": {
            "_dom_classes": [],
            "_model_module": "@jupyter-widgets/controls",
            "_model_module_version": "1.5.0",
            "_model_name": "HTMLModel",
            "_view_count": null,
            "_view_module": "@jupyter-widgets/controls",
            "_view_module_version": "1.5.0",
            "_view_name": "HTMLView",
            "description": "",
            "description_tooltip": null,
            "layout": "IPY_MODEL_cbacea91221e4a41b3e19844c0aacabc",
            "placeholder": "​",
            "style": "IPY_MODEL_602333d6e44a493c8ee4edcbc8dbb1cc",
            "value": "Generating train split: 100%"
          }
        },
        "fb6689c9741841ee810957ac385ebb0c": {
          "model_module": "@jupyter-widgets/controls",
          "model_name": "FloatProgressModel",
          "model_module_version": "1.5.0",
          "state": {
            "_dom_classes": [],
            "_model_module": "@jupyter-widgets/controls",
            "_model_module_version": "1.5.0",
            "_model_name": "FloatProgressModel",
            "_view_count": null,
            "_view_module": "@jupyter-widgets/controls",
            "_view_module_version": "1.5.0",
            "_view_name": "ProgressView",
            "bar_style": "success",
            "description": "",
            "description_tooltip": null,
            "layout": "IPY_MODEL_0f6d3a05d8f34ee5b0a876c149abf774",
            "max": 50000,
            "min": 0,
            "orientation": "horizontal",
            "style": "IPY_MODEL_58ae54c4280d47f787c6f369988d3891",
            "value": 50000
          }
        },
        "ce6f8f0fe5224d51af2eae95d8b5ac0d": {
          "model_module": "@jupyter-widgets/controls",
          "model_name": "HTMLModel",
          "model_module_version": "1.5.0",
          "state": {
            "_dom_classes": [],
            "_model_module": "@jupyter-widgets/controls",
            "_model_module_version": "1.5.0",
            "_model_name": "HTMLModel",
            "_view_count": null,
            "_view_module": "@jupyter-widgets/controls",
            "_view_module_version": "1.5.0",
            "_view_name": "HTMLView",
            "description": "",
            "description_tooltip": null,
            "layout": "IPY_MODEL_008a395808334abcbebd6edd57542cf4",
            "placeholder": "​",
            "style": "IPY_MODEL_cfeca6f34d834909a4ac1969eec016fb",
            "value": " 50000/50000 [00:02&lt;00:00, 35033.87 examples/s]"
          }
        },
        "7f5d9671eccb401abbf4c95605b121f1": {
          "model_module": "@jupyter-widgets/base",
          "model_name": "LayoutModel",
          "model_module_version": "1.2.0",
          "state": {
            "_model_module": "@jupyter-widgets/base",
            "_model_module_version": "1.2.0",
            "_model_name": "LayoutModel",
            "_view_count": null,
            "_view_module": "@jupyter-widgets/base",
            "_view_module_version": "1.2.0",
            "_view_name": "LayoutView",
            "align_content": null,
            "align_items": null,
            "align_self": null,
            "border": null,
            "bottom": null,
            "display": null,
            "flex": null,
            "flex_flow": null,
            "grid_area": null,
            "grid_auto_columns": null,
            "grid_auto_flow": null,
            "grid_auto_rows": null,
            "grid_column": null,
            "grid_gap": null,
            "grid_row": null,
            "grid_template_areas": null,
            "grid_template_columns": null,
            "grid_template_rows": null,
            "height": null,
            "justify_content": null,
            "justify_items": null,
            "left": null,
            "margin": null,
            "max_height": null,
            "max_width": null,
            "min_height": null,
            "min_width": null,
            "object_fit": null,
            "object_position": null,
            "order": null,
            "overflow": null,
            "overflow_x": null,
            "overflow_y": null,
            "padding": null,
            "right": null,
            "top": null,
            "visibility": null,
            "width": null
          }
        },
        "cbacea91221e4a41b3e19844c0aacabc": {
          "model_module": "@jupyter-widgets/base",
          "model_name": "LayoutModel",
          "model_module_version": "1.2.0",
          "state": {
            "_model_module": "@jupyter-widgets/base",
            "_model_module_version": "1.2.0",
            "_model_name": "LayoutModel",
            "_view_count": null,
            "_view_module": "@jupyter-widgets/base",
            "_view_module_version": "1.2.0",
            "_view_name": "LayoutView",
            "align_content": null,
            "align_items": null,
            "align_self": null,
            "border": null,
            "bottom": null,
            "display": null,
            "flex": null,
            "flex_flow": null,
            "grid_area": null,
            "grid_auto_columns": null,
            "grid_auto_flow": null,
            "grid_auto_rows": null,
            "grid_column": null,
            "grid_gap": null,
            "grid_row": null,
            "grid_template_areas": null,
            "grid_template_columns": null,
            "grid_template_rows": null,
            "height": null,
            "justify_content": null,
            "justify_items": null,
            "left": null,
            "margin": null,
            "max_height": null,
            "max_width": null,
            "min_height": null,
            "min_width": null,
            "object_fit": null,
            "object_position": null,
            "order": null,
            "overflow": null,
            "overflow_x": null,
            "overflow_y": null,
            "padding": null,
            "right": null,
            "top": null,
            "visibility": null,
            "width": null
          }
        },
        "602333d6e44a493c8ee4edcbc8dbb1cc": {
          "model_module": "@jupyter-widgets/controls",
          "model_name": "DescriptionStyleModel",
          "model_module_version": "1.5.0",
          "state": {
            "_model_module": "@jupyter-widgets/controls",
            "_model_module_version": "1.5.0",
            "_model_name": "DescriptionStyleModel",
            "_view_count": null,
            "_view_module": "@jupyter-widgets/base",
            "_view_module_version": "1.2.0",
            "_view_name": "StyleView",
            "description_width": ""
          }
        },
        "0f6d3a05d8f34ee5b0a876c149abf774": {
          "model_module": "@jupyter-widgets/base",
          "model_name": "LayoutModel",
          "model_module_version": "1.2.0",
          "state": {
            "_model_module": "@jupyter-widgets/base",
            "_model_module_version": "1.2.0",
            "_model_name": "LayoutModel",
            "_view_count": null,
            "_view_module": "@jupyter-widgets/base",
            "_view_module_version": "1.2.0",
            "_view_name": "LayoutView",
            "align_content": null,
            "align_items": null,
            "align_self": null,
            "border": null,
            "bottom": null,
            "display": null,
            "flex": null,
            "flex_flow": null,
            "grid_area": null,
            "grid_auto_columns": null,
            "grid_auto_flow": null,
            "grid_auto_rows": null,
            "grid_column": null,
            "grid_gap": null,
            "grid_row": null,
            "grid_template_areas": null,
            "grid_template_columns": null,
            "grid_template_rows": null,
            "height": null,
            "justify_content": null,
            "justify_items": null,
            "left": null,
            "margin": null,
            "max_height": null,
            "max_width": null,
            "min_height": null,
            "min_width": null,
            "object_fit": null,
            "object_position": null,
            "order": null,
            "overflow": null,
            "overflow_x": null,
            "overflow_y": null,
            "padding": null,
            "right": null,
            "top": null,
            "visibility": null,
            "width": null
          }
        },
        "58ae54c4280d47f787c6f369988d3891": {
          "model_module": "@jupyter-widgets/controls",
          "model_name": "ProgressStyleModel",
          "model_module_version": "1.5.0",
          "state": {
            "_model_module": "@jupyter-widgets/controls",
            "_model_module_version": "1.5.0",
            "_model_name": "ProgressStyleModel",
            "_view_count": null,
            "_view_module": "@jupyter-widgets/base",
            "_view_module_version": "1.2.0",
            "_view_name": "StyleView",
            "bar_color": null,
            "description_width": ""
          }
        },
        "008a395808334abcbebd6edd57542cf4": {
          "model_module": "@jupyter-widgets/base",
          "model_name": "LayoutModel",
          "model_module_version": "1.2.0",
          "state": {
            "_model_module": "@jupyter-widgets/base",
            "_model_module_version": "1.2.0",
            "_model_name": "LayoutModel",
            "_view_count": null,
            "_view_module": "@jupyter-widgets/base",
            "_view_module_version": "1.2.0",
            "_view_name": "LayoutView",
            "align_content": null,
            "align_items": null,
            "align_self": null,
            "border": null,
            "bottom": null,
            "display": null,
            "flex": null,
            "flex_flow": null,
            "grid_area": null,
            "grid_auto_columns": null,
            "grid_auto_flow": null,
            "grid_auto_rows": null,
            "grid_column": null,
            "grid_gap": null,
            "grid_row": null,
            "grid_template_areas": null,
            "grid_template_columns": null,
            "grid_template_rows": null,
            "height": null,
            "justify_content": null,
            "justify_items": null,
            "left": null,
            "margin": null,
            "max_height": null,
            "max_width": null,
            "min_height": null,
            "min_width": null,
            "object_fit": null,
            "object_position": null,
            "order": null,
            "overflow": null,
            "overflow_x": null,
            "overflow_y": null,
            "padding": null,
            "right": null,
            "top": null,
            "visibility": null,
            "width": null
          }
        },
        "cfeca6f34d834909a4ac1969eec016fb": {
          "model_module": "@jupyter-widgets/controls",
          "model_name": "DescriptionStyleModel",
          "model_module_version": "1.5.0",
          "state": {
            "_model_module": "@jupyter-widgets/controls",
            "_model_module_version": "1.5.0",
            "_model_name": "DescriptionStyleModel",
            "_view_count": null,
            "_view_module": "@jupyter-widgets/base",
            "_view_module_version": "1.2.0",
            "_view_name": "StyleView",
            "description_width": ""
          }
        },
        "d6702d30c4b849338439b139c93b2e82": {
          "model_module": "@jupyter-widgets/controls",
          "model_name": "HBoxModel",
          "model_module_version": "1.5.0",
          "state": {
            "_dom_classes": [],
            "_model_module": "@jupyter-widgets/controls",
            "_model_module_version": "1.5.0",
            "_model_name": "HBoxModel",
            "_view_count": null,
            "_view_module": "@jupyter-widgets/controls",
            "_view_module_version": "1.5.0",
            "_view_name": "HBoxView",
            "box_style": "",
            "children": [
              "IPY_MODEL_6e88da11a8c94e80ab62f76529cfc8e3",
              "IPY_MODEL_aee88d65e69d45e791bf2e36506a919b",
              "IPY_MODEL_17b65c07ec7b4eeda2260b1812f50324"
            ],
            "layout": "IPY_MODEL_b5cf9252b8dd466aa92adf52c1a2247c"
          }
        },
        "6e88da11a8c94e80ab62f76529cfc8e3": {
          "model_module": "@jupyter-widgets/controls",
          "model_name": "HTMLModel",
          "model_module_version": "1.5.0",
          "state": {
            "_dom_classes": [],
            "_model_module": "@jupyter-widgets/controls",
            "_model_module_version": "1.5.0",
            "_model_name": "HTMLModel",
            "_view_count": null,
            "_view_module": "@jupyter-widgets/controls",
            "_view_module_version": "1.5.0",
            "_view_name": "HTMLView",
            "description": "",
            "description_tooltip": null,
            "layout": "IPY_MODEL_6d6b66d30af740dfa03c9ede87624d90",
            "placeholder": "​",
            "style": "IPY_MODEL_faade2a7ef84461f91556499024abc09",
            "value": "Generating test split: 100%"
          }
        },
        "aee88d65e69d45e791bf2e36506a919b": {
          "model_module": "@jupyter-widgets/controls",
          "model_name": "FloatProgressModel",
          "model_module_version": "1.5.0",
          "state": {
            "_dom_classes": [],
            "_model_module": "@jupyter-widgets/controls",
            "_model_module_version": "1.5.0",
            "_model_name": "FloatProgressModel",
            "_view_count": null,
            "_view_module": "@jupyter-widgets/controls",
            "_view_module_version": "1.5.0",
            "_view_name": "ProgressView",
            "bar_style": "success",
            "description": "",
            "description_tooltip": null,
            "layout": "IPY_MODEL_378d34b01e1242628322ad46472e1e68",
            "max": 10000,
            "min": 0,
            "orientation": "horizontal",
            "style": "IPY_MODEL_3758580df3d847599e148fdd24092aca",
            "value": 10000
          }
        },
        "17b65c07ec7b4eeda2260b1812f50324": {
          "model_module": "@jupyter-widgets/controls",
          "model_name": "HTMLModel",
          "model_module_version": "1.5.0",
          "state": {
            "_dom_classes": [],
            "_model_module": "@jupyter-widgets/controls",
            "_model_module_version": "1.5.0",
            "_model_name": "HTMLModel",
            "_view_count": null,
            "_view_module": "@jupyter-widgets/controls",
            "_view_module_version": "1.5.0",
            "_view_name": "HTMLView",
            "description": "",
            "description_tooltip": null,
            "layout": "IPY_MODEL_8131569e515b47a4b502cbc6703c44cd",
            "placeholder": "​",
            "style": "IPY_MODEL_d9e9ca603e8c4164b749c986a51b3d4c",
            "value": " 10000/10000 [00:00&lt;00:00, 21114.20 examples/s]"
          }
        },
        "b5cf9252b8dd466aa92adf52c1a2247c": {
          "model_module": "@jupyter-widgets/base",
          "model_name": "LayoutModel",
          "model_module_version": "1.2.0",
          "state": {
            "_model_module": "@jupyter-widgets/base",
            "_model_module_version": "1.2.0",
            "_model_name": "LayoutModel",
            "_view_count": null,
            "_view_module": "@jupyter-widgets/base",
            "_view_module_version": "1.2.0",
            "_view_name": "LayoutView",
            "align_content": null,
            "align_items": null,
            "align_self": null,
            "border": null,
            "bottom": null,
            "display": null,
            "flex": null,
            "flex_flow": null,
            "grid_area": null,
            "grid_auto_columns": null,
            "grid_auto_flow": null,
            "grid_auto_rows": null,
            "grid_column": null,
            "grid_gap": null,
            "grid_row": null,
            "grid_template_areas": null,
            "grid_template_columns": null,
            "grid_template_rows": null,
            "height": null,
            "justify_content": null,
            "justify_items": null,
            "left": null,
            "margin": null,
            "max_height": null,
            "max_width": null,
            "min_height": null,
            "min_width": null,
            "object_fit": null,
            "object_position": null,
            "order": null,
            "overflow": null,
            "overflow_x": null,
            "overflow_y": null,
            "padding": null,
            "right": null,
            "top": null,
            "visibility": null,
            "width": null
          }
        },
        "6d6b66d30af740dfa03c9ede87624d90": {
          "model_module": "@jupyter-widgets/base",
          "model_name": "LayoutModel",
          "model_module_version": "1.2.0",
          "state": {
            "_model_module": "@jupyter-widgets/base",
            "_model_module_version": "1.2.0",
            "_model_name": "LayoutModel",
            "_view_count": null,
            "_view_module": "@jupyter-widgets/base",
            "_view_module_version": "1.2.0",
            "_view_name": "LayoutView",
            "align_content": null,
            "align_items": null,
            "align_self": null,
            "border": null,
            "bottom": null,
            "display": null,
            "flex": null,
            "flex_flow": null,
            "grid_area": null,
            "grid_auto_columns": null,
            "grid_auto_flow": null,
            "grid_auto_rows": null,
            "grid_column": null,
            "grid_gap": null,
            "grid_row": null,
            "grid_template_areas": null,
            "grid_template_columns": null,
            "grid_template_rows": null,
            "height": null,
            "justify_content": null,
            "justify_items": null,
            "left": null,
            "margin": null,
            "max_height": null,
            "max_width": null,
            "min_height": null,
            "min_width": null,
            "object_fit": null,
            "object_position": null,
            "order": null,
            "overflow": null,
            "overflow_x": null,
            "overflow_y": null,
            "padding": null,
            "right": null,
            "top": null,
            "visibility": null,
            "width": null
          }
        },
        "faade2a7ef84461f91556499024abc09": {
          "model_module": "@jupyter-widgets/controls",
          "model_name": "DescriptionStyleModel",
          "model_module_version": "1.5.0",
          "state": {
            "_model_module": "@jupyter-widgets/controls",
            "_model_module_version": "1.5.0",
            "_model_name": "DescriptionStyleModel",
            "_view_count": null,
            "_view_module": "@jupyter-widgets/base",
            "_view_module_version": "1.2.0",
            "_view_name": "StyleView",
            "description_width": ""
          }
        },
        "378d34b01e1242628322ad46472e1e68": {
          "model_module": "@jupyter-widgets/base",
          "model_name": "LayoutModel",
          "model_module_version": "1.2.0",
          "state": {
            "_model_module": "@jupyter-widgets/base",
            "_model_module_version": "1.2.0",
            "_model_name": "LayoutModel",
            "_view_count": null,
            "_view_module": "@jupyter-widgets/base",
            "_view_module_version": "1.2.0",
            "_view_name": "LayoutView",
            "align_content": null,
            "align_items": null,
            "align_self": null,
            "border": null,
            "bottom": null,
            "display": null,
            "flex": null,
            "flex_flow": null,
            "grid_area": null,
            "grid_auto_columns": null,
            "grid_auto_flow": null,
            "grid_auto_rows": null,
            "grid_column": null,
            "grid_gap": null,
            "grid_row": null,
            "grid_template_areas": null,
            "grid_template_columns": null,
            "grid_template_rows": null,
            "height": null,
            "justify_content": null,
            "justify_items": null,
            "left": null,
            "margin": null,
            "max_height": null,
            "max_width": null,
            "min_height": null,
            "min_width": null,
            "object_fit": null,
            "object_position": null,
            "order": null,
            "overflow": null,
            "overflow_x": null,
            "overflow_y": null,
            "padding": null,
            "right": null,
            "top": null,
            "visibility": null,
            "width": null
          }
        },
        "3758580df3d847599e148fdd24092aca": {
          "model_module": "@jupyter-widgets/controls",
          "model_name": "ProgressStyleModel",
          "model_module_version": "1.5.0",
          "state": {
            "_model_module": "@jupyter-widgets/controls",
            "_model_module_version": "1.5.0",
            "_model_name": "ProgressStyleModel",
            "_view_count": null,
            "_view_module": "@jupyter-widgets/base",
            "_view_module_version": "1.2.0",
            "_view_name": "StyleView",
            "bar_color": null,
            "description_width": ""
          }
        },
        "8131569e515b47a4b502cbc6703c44cd": {
          "model_module": "@jupyter-widgets/base",
          "model_name": "LayoutModel",
          "model_module_version": "1.2.0",
          "state": {
            "_model_module": "@jupyter-widgets/base",
            "_model_module_version": "1.2.0",
            "_model_name": "LayoutModel",
            "_view_count": null,
            "_view_module": "@jupyter-widgets/base",
            "_view_module_version": "1.2.0",
            "_view_name": "LayoutView",
            "align_content": null,
            "align_items": null,
            "align_self": null,
            "border": null,
            "bottom": null,
            "display": null,
            "flex": null,
            "flex_flow": null,
            "grid_area": null,
            "grid_auto_columns": null,
            "grid_auto_flow": null,
            "grid_auto_rows": null,
            "grid_column": null,
            "grid_gap": null,
            "grid_row": null,
            "grid_template_areas": null,
            "grid_template_columns": null,
            "grid_template_rows": null,
            "height": null,
            "justify_content": null,
            "justify_items": null,
            "left": null,
            "margin": null,
            "max_height": null,
            "max_width": null,
            "min_height": null,
            "min_width": null,
            "object_fit": null,
            "object_position": null,
            "order": null,
            "overflow": null,
            "overflow_x": null,
            "overflow_y": null,
            "padding": null,
            "right": null,
            "top": null,
            "visibility": null,
            "width": null
          }
        },
        "d9e9ca603e8c4164b749c986a51b3d4c": {
          "model_module": "@jupyter-widgets/controls",
          "model_name": "DescriptionStyleModel",
          "model_module_version": "1.5.0",
          "state": {
            "_model_module": "@jupyter-widgets/controls",
            "_model_module_version": "1.5.0",
            "_model_name": "DescriptionStyleModel",
            "_view_count": null,
            "_view_module": "@jupyter-widgets/base",
            "_view_module_version": "1.2.0",
            "_view_name": "StyleView",
            "description_width": ""
          }
        },
        "2e25e90e33b94ff3b260e4c6bdc19eb7": {
          "model_module": "@jupyter-widgets/controls",
          "model_name": "HBoxModel",
          "model_module_version": "1.5.0",
          "state": {
            "_dom_classes": [],
            "_model_module": "@jupyter-widgets/controls",
            "_model_module_version": "1.5.0",
            "_model_name": "HBoxModel",
            "_view_count": null,
            "_view_module": "@jupyter-widgets/controls",
            "_view_module_version": "1.5.0",
            "_view_name": "HBoxView",
            "box_style": "",
            "children": [
              "IPY_MODEL_6b6b403907294a6089809cf54e827d51",
              "IPY_MODEL_060c6cbd91994c7abc30333a9272ce3d",
              "IPY_MODEL_77a0651ca31343b193c2c3a7c5fe16d3"
            ],
            "layout": "IPY_MODEL_222757e823e74adc842187992737c616"
          }
        },
        "6b6b403907294a6089809cf54e827d51": {
          "model_module": "@jupyter-widgets/controls",
          "model_name": "HTMLModel",
          "model_module_version": "1.5.0",
          "state": {
            "_dom_classes": [],
            "_model_module": "@jupyter-widgets/controls",
            "_model_module_version": "1.5.0",
            "_model_name": "HTMLModel",
            "_view_count": null,
            "_view_module": "@jupyter-widgets/controls",
            "_view_module_version": "1.5.0",
            "_view_name": "HTMLView",
            "description": "",
            "description_tooltip": null,
            "layout": "IPY_MODEL_cf7b5248f7564a5899bd23b5c4974108",
            "placeholder": "​",
            "style": "IPY_MODEL_3a6af6f65f2a4cf09042cc730db709fb",
            "value": "Map: 100%"
          }
        },
        "060c6cbd91994c7abc30333a9272ce3d": {
          "model_module": "@jupyter-widgets/controls",
          "model_name": "FloatProgressModel",
          "model_module_version": "1.5.0",
          "state": {
            "_dom_classes": [],
            "_model_module": "@jupyter-widgets/controls",
            "_model_module_version": "1.5.0",
            "_model_name": "FloatProgressModel",
            "_view_count": null,
            "_view_module": "@jupyter-widgets/controls",
            "_view_module_version": "1.5.0",
            "_view_name": "ProgressView",
            "bar_style": "success",
            "description": "",
            "description_tooltip": null,
            "layout": "IPY_MODEL_0a003652fe48473c85c6145d3edfc7c9",
            "max": 2000,
            "min": 0,
            "orientation": "horizontal",
            "style": "IPY_MODEL_9033ac48cfd64d7495ae9479f01d9ed5",
            "value": 2000
          }
        },
        "77a0651ca31343b193c2c3a7c5fe16d3": {
          "model_module": "@jupyter-widgets/controls",
          "model_name": "HTMLModel",
          "model_module_version": "1.5.0",
          "state": {
            "_dom_classes": [],
            "_model_module": "@jupyter-widgets/controls",
            "_model_module_version": "1.5.0",
            "_model_name": "HTMLModel",
            "_view_count": null,
            "_view_module": "@jupyter-widgets/controls",
            "_view_module_version": "1.5.0",
            "_view_name": "HTMLView",
            "description": "",
            "description_tooltip": null,
            "layout": "IPY_MODEL_8f4f4110161a4d4294da26c85195e56b",
            "placeholder": "​",
            "style": "IPY_MODEL_65432d4404fa438cb2af34d4acc9c80a",
            "value": " 2000/2000 [00:15&lt;00:00, 522.31 examples/s]"
          }
        },
        "222757e823e74adc842187992737c616": {
          "model_module": "@jupyter-widgets/base",
          "model_name": "LayoutModel",
          "model_module_version": "1.2.0",
          "state": {
            "_model_module": "@jupyter-widgets/base",
            "_model_module_version": "1.2.0",
            "_model_name": "LayoutModel",
            "_view_count": null,
            "_view_module": "@jupyter-widgets/base",
            "_view_module_version": "1.2.0",
            "_view_name": "LayoutView",
            "align_content": null,
            "align_items": null,
            "align_self": null,
            "border": null,
            "bottom": null,
            "display": null,
            "flex": null,
            "flex_flow": null,
            "grid_area": null,
            "grid_auto_columns": null,
            "grid_auto_flow": null,
            "grid_auto_rows": null,
            "grid_column": null,
            "grid_gap": null,
            "grid_row": null,
            "grid_template_areas": null,
            "grid_template_columns": null,
            "grid_template_rows": null,
            "height": null,
            "justify_content": null,
            "justify_items": null,
            "left": null,
            "margin": null,
            "max_height": null,
            "max_width": null,
            "min_height": null,
            "min_width": null,
            "object_fit": null,
            "object_position": null,
            "order": null,
            "overflow": null,
            "overflow_x": null,
            "overflow_y": null,
            "padding": null,
            "right": null,
            "top": null,
            "visibility": null,
            "width": null
          }
        },
        "cf7b5248f7564a5899bd23b5c4974108": {
          "model_module": "@jupyter-widgets/base",
          "model_name": "LayoutModel",
          "model_module_version": "1.2.0",
          "state": {
            "_model_module": "@jupyter-widgets/base",
            "_model_module_version": "1.2.0",
            "_model_name": "LayoutModel",
            "_view_count": null,
            "_view_module": "@jupyter-widgets/base",
            "_view_module_version": "1.2.0",
            "_view_name": "LayoutView",
            "align_content": null,
            "align_items": null,
            "align_self": null,
            "border": null,
            "bottom": null,
            "display": null,
            "flex": null,
            "flex_flow": null,
            "grid_area": null,
            "grid_auto_columns": null,
            "grid_auto_flow": null,
            "grid_auto_rows": null,
            "grid_column": null,
            "grid_gap": null,
            "grid_row": null,
            "grid_template_areas": null,
            "grid_template_columns": null,
            "grid_template_rows": null,
            "height": null,
            "justify_content": null,
            "justify_items": null,
            "left": null,
            "margin": null,
            "max_height": null,
            "max_width": null,
            "min_height": null,
            "min_width": null,
            "object_fit": null,
            "object_position": null,
            "order": null,
            "overflow": null,
            "overflow_x": null,
            "overflow_y": null,
            "padding": null,
            "right": null,
            "top": null,
            "visibility": null,
            "width": null
          }
        },
        "3a6af6f65f2a4cf09042cc730db709fb": {
          "model_module": "@jupyter-widgets/controls",
          "model_name": "DescriptionStyleModel",
          "model_module_version": "1.5.0",
          "state": {
            "_model_module": "@jupyter-widgets/controls",
            "_model_module_version": "1.5.0",
            "_model_name": "DescriptionStyleModel",
            "_view_count": null,
            "_view_module": "@jupyter-widgets/base",
            "_view_module_version": "1.2.0",
            "_view_name": "StyleView",
            "description_width": ""
          }
        },
        "0a003652fe48473c85c6145d3edfc7c9": {
          "model_module": "@jupyter-widgets/base",
          "model_name": "LayoutModel",
          "model_module_version": "1.2.0",
          "state": {
            "_model_module": "@jupyter-widgets/base",
            "_model_module_version": "1.2.0",
            "_model_name": "LayoutModel",
            "_view_count": null,
            "_view_module": "@jupyter-widgets/base",
            "_view_module_version": "1.2.0",
            "_view_name": "LayoutView",
            "align_content": null,
            "align_items": null,
            "align_self": null,
            "border": null,
            "bottom": null,
            "display": null,
            "flex": null,
            "flex_flow": null,
            "grid_area": null,
            "grid_auto_columns": null,
            "grid_auto_flow": null,
            "grid_auto_rows": null,
            "grid_column": null,
            "grid_gap": null,
            "grid_row": null,
            "grid_template_areas": null,
            "grid_template_columns": null,
            "grid_template_rows": null,
            "height": null,
            "justify_content": null,
            "justify_items": null,
            "left": null,
            "margin": null,
            "max_height": null,
            "max_width": null,
            "min_height": null,
            "min_width": null,
            "object_fit": null,
            "object_position": null,
            "order": null,
            "overflow": null,
            "overflow_x": null,
            "overflow_y": null,
            "padding": null,
            "right": null,
            "top": null,
            "visibility": null,
            "width": null
          }
        },
        "9033ac48cfd64d7495ae9479f01d9ed5": {
          "model_module": "@jupyter-widgets/controls",
          "model_name": "ProgressStyleModel",
          "model_module_version": "1.5.0",
          "state": {
            "_model_module": "@jupyter-widgets/controls",
            "_model_module_version": "1.5.0",
            "_model_name": "ProgressStyleModel",
            "_view_count": null,
            "_view_module": "@jupyter-widgets/base",
            "_view_module_version": "1.2.0",
            "_view_name": "StyleView",
            "bar_color": null,
            "description_width": ""
          }
        },
        "8f4f4110161a4d4294da26c85195e56b": {
          "model_module": "@jupyter-widgets/base",
          "model_name": "LayoutModel",
          "model_module_version": "1.2.0",
          "state": {
            "_model_module": "@jupyter-widgets/base",
            "_model_module_version": "1.2.0",
            "_model_name": "LayoutModel",
            "_view_count": null,
            "_view_module": "@jupyter-widgets/base",
            "_view_module_version": "1.2.0",
            "_view_name": "LayoutView",
            "align_content": null,
            "align_items": null,
            "align_self": null,
            "border": null,
            "bottom": null,
            "display": null,
            "flex": null,
            "flex_flow": null,
            "grid_area": null,
            "grid_auto_columns": null,
            "grid_auto_flow": null,
            "grid_auto_rows": null,
            "grid_column": null,
            "grid_gap": null,
            "grid_row": null,
            "grid_template_areas": null,
            "grid_template_columns": null,
            "grid_template_rows": null,
            "height": null,
            "justify_content": null,
            "justify_items": null,
            "left": null,
            "margin": null,
            "max_height": null,
            "max_width": null,
            "min_height": null,
            "min_width": null,
            "object_fit": null,
            "object_position": null,
            "order": null,
            "overflow": null,
            "overflow_x": null,
            "overflow_y": null,
            "padding": null,
            "right": null,
            "top": null,
            "visibility": null,
            "width": null
          }
        },
        "65432d4404fa438cb2af34d4acc9c80a": {
          "model_module": "@jupyter-widgets/controls",
          "model_name": "DescriptionStyleModel",
          "model_module_version": "1.5.0",
          "state": {
            "_model_module": "@jupyter-widgets/controls",
            "_model_module_version": "1.5.0",
            "_model_name": "DescriptionStyleModel",
            "_view_count": null,
            "_view_module": "@jupyter-widgets/base",
            "_view_module_version": "1.2.0",
            "_view_name": "StyleView",
            "description_width": ""
          }
        },
        "3044041514e3497b80cf1a03f2a5c6aa": {
          "model_module": "@jupyter-widgets/controls",
          "model_name": "HBoxModel",
          "model_module_version": "1.5.0",
          "state": {
            "_dom_classes": [],
            "_model_module": "@jupyter-widgets/controls",
            "_model_module_version": "1.5.0",
            "_model_name": "HBoxModel",
            "_view_count": null,
            "_view_module": "@jupyter-widgets/controls",
            "_view_module_version": "1.5.0",
            "_view_name": "HBoxView",
            "box_style": "",
            "children": [
              "IPY_MODEL_33b854eadeab4321bb5fcdf8f4100fdc",
              "IPY_MODEL_e6db8c5eeb6a4a739014da97b86317da",
              "IPY_MODEL_c1ea5f9d1ea44c52a4ad2ad6f473e3b7"
            ],
            "layout": "IPY_MODEL_a9bc825482754f1a985b469c8a946362"
          }
        },
        "33b854eadeab4321bb5fcdf8f4100fdc": {
          "model_module": "@jupyter-widgets/controls",
          "model_name": "HTMLModel",
          "model_module_version": "1.5.0",
          "state": {
            "_dom_classes": [],
            "_model_module": "@jupyter-widgets/controls",
            "_model_module_version": "1.5.0",
            "_model_name": "HTMLModel",
            "_view_count": null,
            "_view_module": "@jupyter-widgets/controls",
            "_view_module_version": "1.5.0",
            "_view_name": "HTMLView",
            "description": "",
            "description_tooltip": null,
            "layout": "IPY_MODEL_16c84c3eea05471d971c63b9dd2014ff",
            "placeholder": "​",
            "style": "IPY_MODEL_ecd0847eb25d4aeea646fd679ed80638",
            "value": "Map: 100%"
          }
        },
        "e6db8c5eeb6a4a739014da97b86317da": {
          "model_module": "@jupyter-widgets/controls",
          "model_name": "FloatProgressModel",
          "model_module_version": "1.5.0",
          "state": {
            "_dom_classes": [],
            "_model_module": "@jupyter-widgets/controls",
            "_model_module_version": "1.5.0",
            "_model_name": "FloatProgressModel",
            "_view_count": null,
            "_view_module": "@jupyter-widgets/controls",
            "_view_module_version": "1.5.0",
            "_view_name": "ProgressView",
            "bar_style": "success",
            "description": "",
            "description_tooltip": null,
            "layout": "IPY_MODEL_8cdca1123a654a3da28271cf12e08851",
            "max": 500,
            "min": 0,
            "orientation": "horizontal",
            "style": "IPY_MODEL_4bb57da45133474aa995dd79ba5a99ea",
            "value": 500
          }
        },
        "c1ea5f9d1ea44c52a4ad2ad6f473e3b7": {
          "model_module": "@jupyter-widgets/controls",
          "model_name": "HTMLModel",
          "model_module_version": "1.5.0",
          "state": {
            "_dom_classes": [],
            "_model_module": "@jupyter-widgets/controls",
            "_model_module_version": "1.5.0",
            "_model_name": "HTMLModel",
            "_view_count": null,
            "_view_module": "@jupyter-widgets/controls",
            "_view_module_version": "1.5.0",
            "_view_name": "HTMLView",
            "description": "",
            "description_tooltip": null,
            "layout": "IPY_MODEL_246024f254d94f7b9bf5dc680a581d1f",
            "placeholder": "​",
            "style": "IPY_MODEL_0f8f8a8fe96c48249e6d77b00bb4c062",
            "value": " 500/500 [00:03&lt;00:00, 812.39 examples/s]"
          }
        },
        "a9bc825482754f1a985b469c8a946362": {
          "model_module": "@jupyter-widgets/base",
          "model_name": "LayoutModel",
          "model_module_version": "1.2.0",
          "state": {
            "_model_module": "@jupyter-widgets/base",
            "_model_module_version": "1.2.0",
            "_model_name": "LayoutModel",
            "_view_count": null,
            "_view_module": "@jupyter-widgets/base",
            "_view_module_version": "1.2.0",
            "_view_name": "LayoutView",
            "align_content": null,
            "align_items": null,
            "align_self": null,
            "border": null,
            "bottom": null,
            "display": null,
            "flex": null,
            "flex_flow": null,
            "grid_area": null,
            "grid_auto_columns": null,
            "grid_auto_flow": null,
            "grid_auto_rows": null,
            "grid_column": null,
            "grid_gap": null,
            "grid_row": null,
            "grid_template_areas": null,
            "grid_template_columns": null,
            "grid_template_rows": null,
            "height": null,
            "justify_content": null,
            "justify_items": null,
            "left": null,
            "margin": null,
            "max_height": null,
            "max_width": null,
            "min_height": null,
            "min_width": null,
            "object_fit": null,
            "object_position": null,
            "order": null,
            "overflow": null,
            "overflow_x": null,
            "overflow_y": null,
            "padding": null,
            "right": null,
            "top": null,
            "visibility": null,
            "width": null
          }
        },
        "16c84c3eea05471d971c63b9dd2014ff": {
          "model_module": "@jupyter-widgets/base",
          "model_name": "LayoutModel",
          "model_module_version": "1.2.0",
          "state": {
            "_model_module": "@jupyter-widgets/base",
            "_model_module_version": "1.2.0",
            "_model_name": "LayoutModel",
            "_view_count": null,
            "_view_module": "@jupyter-widgets/base",
            "_view_module_version": "1.2.0",
            "_view_name": "LayoutView",
            "align_content": null,
            "align_items": null,
            "align_self": null,
            "border": null,
            "bottom": null,
            "display": null,
            "flex": null,
            "flex_flow": null,
            "grid_area": null,
            "grid_auto_columns": null,
            "grid_auto_flow": null,
            "grid_auto_rows": null,
            "grid_column": null,
            "grid_gap": null,
            "grid_row": null,
            "grid_template_areas": null,
            "grid_template_columns": null,
            "grid_template_rows": null,
            "height": null,
            "justify_content": null,
            "justify_items": null,
            "left": null,
            "margin": null,
            "max_height": null,
            "max_width": null,
            "min_height": null,
            "min_width": null,
            "object_fit": null,
            "object_position": null,
            "order": null,
            "overflow": null,
            "overflow_x": null,
            "overflow_y": null,
            "padding": null,
            "right": null,
            "top": null,
            "visibility": null,
            "width": null
          }
        },
        "ecd0847eb25d4aeea646fd679ed80638": {
          "model_module": "@jupyter-widgets/controls",
          "model_name": "DescriptionStyleModel",
          "model_module_version": "1.5.0",
          "state": {
            "_model_module": "@jupyter-widgets/controls",
            "_model_module_version": "1.5.0",
            "_model_name": "DescriptionStyleModel",
            "_view_count": null,
            "_view_module": "@jupyter-widgets/base",
            "_view_module_version": "1.2.0",
            "_view_name": "StyleView",
            "description_width": ""
          }
        },
        "8cdca1123a654a3da28271cf12e08851": {
          "model_module": "@jupyter-widgets/base",
          "model_name": "LayoutModel",
          "model_module_version": "1.2.0",
          "state": {
            "_model_module": "@jupyter-widgets/base",
            "_model_module_version": "1.2.0",
            "_model_name": "LayoutModel",
            "_view_count": null,
            "_view_module": "@jupyter-widgets/base",
            "_view_module_version": "1.2.0",
            "_view_name": "LayoutView",
            "align_content": null,
            "align_items": null,
            "align_self": null,
            "border": null,
            "bottom": null,
            "display": null,
            "flex": null,
            "flex_flow": null,
            "grid_area": null,
            "grid_auto_columns": null,
            "grid_auto_flow": null,
            "grid_auto_rows": null,
            "grid_column": null,
            "grid_gap": null,
            "grid_row": null,
            "grid_template_areas": null,
            "grid_template_columns": null,
            "grid_template_rows": null,
            "height": null,
            "justify_content": null,
            "justify_items": null,
            "left": null,
            "margin": null,
            "max_height": null,
            "max_width": null,
            "min_height": null,
            "min_width": null,
            "object_fit": null,
            "object_position": null,
            "order": null,
            "overflow": null,
            "overflow_x": null,
            "overflow_y": null,
            "padding": null,
            "right": null,
            "top": null,
            "visibility": null,
            "width": null
          }
        },
        "4bb57da45133474aa995dd79ba5a99ea": {
          "model_module": "@jupyter-widgets/controls",
          "model_name": "ProgressStyleModel",
          "model_module_version": "1.5.0",
          "state": {
            "_model_module": "@jupyter-widgets/controls",
            "_model_module_version": "1.5.0",
            "_model_name": "ProgressStyleModel",
            "_view_count": null,
            "_view_module": "@jupyter-widgets/base",
            "_view_module_version": "1.2.0",
            "_view_name": "StyleView",
            "bar_color": null,
            "description_width": ""
          }
        },
        "246024f254d94f7b9bf5dc680a581d1f": {
          "model_module": "@jupyter-widgets/base",
          "model_name": "LayoutModel",
          "model_module_version": "1.2.0",
          "state": {
            "_model_module": "@jupyter-widgets/base",
            "_model_module_version": "1.2.0",
            "_model_name": "LayoutModel",
            "_view_count": null,
            "_view_module": "@jupyter-widgets/base",
            "_view_module_version": "1.2.0",
            "_view_name": "LayoutView",
            "align_content": null,
            "align_items": null,
            "align_self": null,
            "border": null,
            "bottom": null,
            "display": null,
            "flex": null,
            "flex_flow": null,
            "grid_area": null,
            "grid_auto_columns": null,
            "grid_auto_flow": null,
            "grid_auto_rows": null,
            "grid_column": null,
            "grid_gap": null,
            "grid_row": null,
            "grid_template_areas": null,
            "grid_template_columns": null,
            "grid_template_rows": null,
            "height": null,
            "justify_content": null,
            "justify_items": null,
            "left": null,
            "margin": null,
            "max_height": null,
            "max_width": null,
            "min_height": null,
            "min_width": null,
            "object_fit": null,
            "object_position": null,
            "order": null,
            "overflow": null,
            "overflow_x": null,
            "overflow_y": null,
            "padding": null,
            "right": null,
            "top": null,
            "visibility": null,
            "width": null
          }
        },
        "0f8f8a8fe96c48249e6d77b00bb4c062": {
          "model_module": "@jupyter-widgets/controls",
          "model_name": "DescriptionStyleModel",
          "model_module_version": "1.5.0",
          "state": {
            "_model_module": "@jupyter-widgets/controls",
            "_model_module_version": "1.5.0",
            "_model_name": "DescriptionStyleModel",
            "_view_count": null,
            "_view_module": "@jupyter-widgets/base",
            "_view_module_version": "1.2.0",
            "_view_name": "StyleView",
            "description_width": ""
          }
        }
      }
    }
  },
  "cells": [
    {
      "cell_type": "markdown",
      "source": [
        "\n",
        "# <font color=\"green\">Комплекс из трёх лабораторных работ, по классификации изображений разными типами нейронных сетей с использованием Hugging Face</font>\n",
        "\n",
        "---\n",
        "\n",
        "# <font color=\"green\">Лабораторная работа №1, [ResNet50](https://huggingface.co/docs/transformers/model_doc/resnet)</font>\n",
        "\n",
        "---\n",
        "\n",
        "\n"
      ],
      "metadata": {
        "id": "H-Kas3ZSW8Cs"
      }
    },
    {
      "cell_type": "markdown",
      "source": [
        "![huggingface-2 (2).png](data:image/png;base64,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)"
      ],
      "metadata": {
        "id": "xdoU7njw4gEo"
      }
    },
    {
      "cell_type": "markdown",
      "source": [
        "# <font color=\"green\">Цель данной работы - научиться классифицировать изображения с использованием [ResNet50](https://huggingface.co/docs/transformers/model_doc/resnet), используя библиотеки Hugging Face. Также изучим все нюансы и подводные камни</font>"
      ],
      "metadata": {
        "id": "SoEgTXZWNxJB"
      }
    },
    {
      "cell_type": "markdown",
      "source": [
        "[ResNet50](https://huggingface.co/docs/transformers/model_doc/resnet) — это 50-слойная сверточная нейронная сеть, разработанная для эффективного обучения глубоких моделей благодаря использованию остаточных блоков с пропускными связями, которые решают проблему затухания градиентов. Архитектура включает 49 свёрточных и один полносвязный слой, применяет Batch Normalization и ReLU для стабилизации обучения. Сеть широко используется в компьютерном зрении для классификации изображений, детекции объектов и сегментации, сочетая высокую точность с разумными вычислительными затратами, что делает её популярной в практических приложениях."
      ],
      "metadata": {
        "id": "4PSBvNubS_ei"
      }
    },
    {
      "cell_type": "markdown",
      "source": [
        "### Шаг 1. Установка и импорт зависимостей\n",
        "\n",
        "- Устанавливаем необходимые библиотеки для машинного обучения (PyTorch, Transformers, Datasets и др.).\n",
        "\n",
        "- Импортируем основные модули для работы с нейросетями, данными и визуализацией.\n",
        "\n",
        "- Готовим инструменты для загрузки датасета (CIFAR-100) и оценки точности модели.\n",
        "\n",
        "(Для чего каждая зависимость подробнее описано в коде)"
      ],
      "metadata": {
        "id": "pWP3zz4Rbset"
      }
    },
    {
      "cell_type": "code",
      "execution_count": null,
      "metadata": {
        "id": "-ODTFghuYUFZ",
        "colab": {
          "base_uri": "https://localhost:8080/"
        },
        "outputId": "bf605e35-c0e1-483b-a256-b288a409f826"
      },
      "outputs": [
        {
          "output_type": "stream",
          "name": "stdout",
          "text": [
            "\u001b[2K   \u001b[90m━━━━━━━━━━━━━━━━━━━━━━━━━━━━━━━━━━━━━━━━\u001b[0m \u001b[32m491.4/491.4 kB\u001b[0m \u001b[31m20.3 MB/s\u001b[0m eta \u001b[36m0:00:00\u001b[0m\n",
            "\u001b[2K   \u001b[90m━━━━━━━━━━━━━━━━━━━━━━━━━━━━━━━━━━━━━━━━\u001b[0m \u001b[32m865.2/865.2 MB\u001b[0m \u001b[31m2.3 MB/s\u001b[0m eta \u001b[36m0:00:00\u001b[0m\n",
            "\u001b[2K   \u001b[90m━━━━━━━━━━━━━━━━━━━━━━━━━━━━━━━━━━━━━━━━\u001b[0m \u001b[32m393.1/393.1 MB\u001b[0m \u001b[31m1.3 MB/s\u001b[0m eta \u001b[36m0:00:00\u001b[0m\n",
            "\u001b[2K   \u001b[90m━━━━━━━━━━━━━━━━━━━━━━━━━━━━━━━━━━━━━━━━\u001b[0m \u001b[32m8.9/8.9 MB\u001b[0m \u001b[31m103.7 MB/s\u001b[0m eta \u001b[36m0:00:00\u001b[0m\n",
            "\u001b[2K   \u001b[90m━━━━━━━━━━━━━━━━━━━━━━━━━━━━━━━━━━━━━━━━\u001b[0m \u001b[32m23.7/23.7 MB\u001b[0m \u001b[31m84.0 MB/s\u001b[0m eta \u001b[36m0:00:00\u001b[0m\n",
            "\u001b[2K   \u001b[90m━━━━━━━━━━━━━━━━━━━━━━━━━━━━━━━━━━━━━━━━\u001b[0m \u001b[32m897.7/897.7 kB\u001b[0m \u001b[31m50.3 MB/s\u001b[0m eta \u001b[36m0:00:00\u001b[0m\n",
            "\u001b[2K   \u001b[90m━━━━━━━━━━━━━━━━━━━━━━━━━━━━━━━━━━━━━━━━\u001b[0m \u001b[32m571.0/571.0 MB\u001b[0m \u001b[31m3.2 MB/s\u001b[0m eta \u001b[36m0:00:00\u001b[0m\n",
            "\u001b[2K   \u001b[90m━━━━━━━━━━━━━━━━━━━━━━━━━━━━━━━━━━━━━━━━\u001b[0m \u001b[32m200.2/200.2 MB\u001b[0m \u001b[31m5.7 MB/s\u001b[0m eta \u001b[36m0:00:00\u001b[0m\n",
            "\u001b[2K   \u001b[90m━━━━━━━━━━━━━━━━━━━━━━━━━━━━━━━━━━━━━━━━\u001b[0m \u001b[32m1.1/1.1 MB\u001b[0m \u001b[31m55.6 MB/s\u001b[0m eta \u001b[36m0:00:00\u001b[0m\n",
            "\u001b[2K   \u001b[90m━━━━━━━━━━━━━━━━━━━━━━━━━━━━━━━━━━━━━━━━\u001b[0m \u001b[32m56.3/56.3 MB\u001b[0m \u001b[31m13.3 MB/s\u001b[0m eta \u001b[36m0:00:00\u001b[0m\n",
            "\u001b[2K   \u001b[90m━━━━━━━━━━━━━━━━━━━━━━━━━━━━━━━━━━━━━━━━\u001b[0m \u001b[32m158.2/158.2 MB\u001b[0m \u001b[31m7.2 MB/s\u001b[0m eta \u001b[36m0:00:00\u001b[0m\n",
            "\u001b[2K   \u001b[90m━━━━━━━━━━━━━━━━━━━━━━━━━━━━━━━━━━━━━━━━\u001b[0m \u001b[32m216.6/216.6 MB\u001b[0m \u001b[31m6.0 MB/s\u001b[0m eta \u001b[36m0:00:00\u001b[0m\n",
            "\u001b[2K   \u001b[90m━━━━━━━━━━━━━━━━━━━━━━━━━━━━━━━━━━━━━━━━\u001b[0m \u001b[32m156.8/156.8 MB\u001b[0m \u001b[31m6.6 MB/s\u001b[0m eta \u001b[36m0:00:00\u001b[0m\n",
            "\u001b[2K   \u001b[90m━━━━━━━━━━━━━━━━━━━━━━━━━━━━━━━━━━━━━━━━\u001b[0m \u001b[32m201.3/201.3 MB\u001b[0m \u001b[31m7.5 MB/s\u001b[0m eta \u001b[36m0:00:00\u001b[0m\n",
            "\u001b[2K   \u001b[90m━━━━━━━━━━━━━━━━━━━━━━━━━━━━━━━━━━━━━━━━\u001b[0m \u001b[32m19.7/19.7 MB\u001b[0m \u001b[31m36.1 MB/s\u001b[0m eta \u001b[36m0:00:00\u001b[0m\n",
            "\u001b[2K   \u001b[90m━━━━━━━━━━━━━━━━━━━━━━━━━━━━━━━━━━━━━━━━\u001b[0m \u001b[32m89.3/89.3 kB\u001b[0m \u001b[31m6.3 MB/s\u001b[0m eta \u001b[36m0:00:00\u001b[0m\n",
            "\u001b[2K   \u001b[90m━━━━━━━━━━━━━━━━━━━━━━━━━━━━━━━━━━━━━━━━\u001b[0m \u001b[32m156.5/156.5 MB\u001b[0m \u001b[31m6.8 MB/s\u001b[0m eta \u001b[36m0:00:00\u001b[0m\n",
            "\u001b[2K   \u001b[90m━━━━━━━━━━━━━━━━━━━━━━━━━━━━━━━━━━━━━━━━\u001b[0m \u001b[32m7.4/7.4 MB\u001b[0m \u001b[31m92.2 MB/s\u001b[0m eta \u001b[36m0:00:00\u001b[0m\n",
            "\u001b[2K   \u001b[90m━━━━━━━━━━━━━━━━━━━━━━━━━━━━━━━━━━━━━━━━\u001b[0m \u001b[32m116.3/116.3 kB\u001b[0m \u001b[31m9.0 MB/s\u001b[0m eta \u001b[36m0:00:00\u001b[0m\n",
            "\u001b[2K   \u001b[90m━━━━━━━━━━━━━━━━━━━━━━━━━━━━━━━━━━━━━━━━\u001b[0m \u001b[32m193.6/193.6 kB\u001b[0m \u001b[31m13.3 MB/s\u001b[0m eta \u001b[36m0:00:00\u001b[0m\n",
            "\u001b[2K   \u001b[90m━━━━━━━━━━━━━━━━━━━━━━━━━━━━━━━━━━━━━━━━\u001b[0m \u001b[32m143.5/143.5 kB\u001b[0m \u001b[31m10.4 MB/s\u001b[0m eta \u001b[36m0:00:00\u001b[0m\n",
            "\u001b[2K   \u001b[90m━━━━━━━━━━━━━━━━━━━━━━━━━━━━━━━━━━━━━━━━\u001b[0m \u001b[32m6.3/6.3 MB\u001b[0m \u001b[31m93.3 MB/s\u001b[0m eta \u001b[36m0:00:00\u001b[0m\n",
            "\u001b[2K   \u001b[90m━━━━━━━━━━━━━━━━━━━━━━━━━━━━━━━━━━━━━━━━\u001b[0m \u001b[32m194.8/194.8 kB\u001b[0m \u001b[31m13.7 MB/s\u001b[0m eta \u001b[36m0:00:00\u001b[0m\n",
            "\u001b[?25h\u001b[31mERROR: pip's dependency resolver does not currently take into account all the packages that are installed. This behaviour is the source of the following dependency conflicts.\n",
            "torchaudio 2.6.0+cu124 requires torch==2.6.0, but you have torch 2.7.0 which is incompatible.\n",
            "gcsfs 2025.3.2 requires fsspec==2025.3.2, but you have fsspec 2025.3.0 which is incompatible.\n",
            "fastai 2.7.19 requires torch<2.7,>=1.10, but you have torch 2.7.0 which is incompatible.\u001b[0m\u001b[31m\n",
            "\u001b[0m"
          ]
        }
      ],
      "source": [
        "# Установка последних версий необходимых библиотек с помощью pip (флаг -q для тихого режима)\n",
        "!pip install --upgrade transformers datasets accelerate huggingface_hub torch torchvision -q\n",
        "\n",
        "# Импорт библиотеки PyTorch для работы с тензорами и нейронными сетями\n",
        "import torch\n",
        "# Импорт модуля нейронных сетей из PyTorch\n",
        "import torch.nn as nn\n",
        "# Импорт библиотеки NumPy для работы с числовыми массивами\n",
        "import numpy as np\n",
        "# Импорт библиотеки matplotlib для визуализации данных и графиков\n",
        "import matplotlib.pyplot as plt\n",
        "# Импорт модуля для работы со случайными числами\n",
        "import random\n",
        "# Импорт модуля для работы с изображениями из библиотеки PIL\n",
        "from PIL import Image\n",
        "\n",
        "# Загрузка датасетов из библиотеки Hugging Face datasets\n",
        "from datasets import load_dataset    # Берём CIFAR-100 из Hugging Face\n",
        "# Функция для загрузки моделей и ресурсов с Hugging Face Hub\n",
        "from huggingface_hub import hf_hub_download\n",
        "# Импорт функции для вычисления точности (accuracy) из библиотеки scikit-learn\n",
        "from sklearn.metrics import accuracy_score\n"
      ]
    },
    {
      "cell_type": "markdown",
      "source": [
        "### Шаг 2. Загрузка датасета CIFAR-100 (Hugging Face)\n",
        "\n",
        "Несмотря на то, что модель [ResNet50](https://huggingface.co/docs/transformers/model_doc/resnet) уже обучена на наборе данных [ImageNet](https://huggingface.co/datasets/mlx-vision/imagenet-1k), мы будем дообучать модель, на наборе данных [CIFAR-100](https://huggingface.co/datasets/uoft-cs/cifar100). Это нужно, чтобы адаптировать предобученную модель к новым классам и маленькому размеру изображений, повысив точность распознавания без обучения с нуля.\n",
        "\n",
        "[CIFAR-100](https://huggingface.co/datasets/uoft-cs/cifar100) — классический датасет для обучения моделей компьютерного зрения, содержащий 60 тысяч маленьких изображений (32x32 пикселя), разбитых на 100 категорий. Используется как эталон для проверки эффективности алгоритмов распознавания образов. В коде берётся сокращённая версия для ускорения тестирования модели.\n",
        "\n",
        "- Загружаем датасет CIFAR-100 (изображения 32x32 пикселя с 100 классами)\n",
        "\n",
        "- Создаем уменьшенные подвыборки (1000 тренировочных и 200 тестовых примеров)\n",
        "\n",
        "- Извлекаем названия классов (например, \"apple\", \"bear\")\n",
        "\n",
        "- Выводим информацию о размере выборок и примеры названий классов"
      ],
      "metadata": {
        "id": "VrxNBP5-OjZM"
      }
    },
    {
      "cell_type": "code",
      "source": [
        "# Загружаем датасет CIFAR-100\n",
        "# Загрузка всего датасета CIFAR-100 из библиотеки Hugging Face Datasets\n",
        "dataset = load_dataset(\"cifar100\")\n",
        "\n",
        "# Создание уменьшенной тренировочной выборки (1000 примеров) для ускорения работы\n",
        "train_subset = dataset[\"train\"].select(range(2000))  # Уменьшаем до 1000 для скорости\n",
        "\n",
        "# Создание уменьшенной тестовой выборки (200 примеров) для быстрой проверки\n",
        "test_subset = dataset[\"test\"].select(range(500))     # 200 образцов\n",
        "\n",
        "# Список названий классов (fine_label_names)\n",
        "# Получение списка читаемых названий для 100 классов датасета\n",
        "label_names = dataset[\"train\"].features[\"fine_label\"].names\n",
        "\n",
        "# Вывод информации о загруженных данных\n",
        "print(\"Датасет загружен. train_subset =\", len(train_subset), \"test_subset =\", len(test_subset))\n",
        "# Вывод первых 5 названий классов для примера\n",
        "print(\"Пример названий классов:\", label_names[:5])"
      ],
      "metadata": {
        "id": "v7KNxiYjOU7O",
        "colab": {
          "base_uri": "https://localhost:8080/",
          "height": 336,
          "referenced_widgets": [
            "c4e6b118113446f1839de154e13e3075",
            "d071ddb710b3415280c19ddbbe9084a8",
            "a5aa69e4b2814d9598fa0bcd044f8a2b",
            "a4c10536fe1e4e849cabdb18cbd40338",
            "b0c0ebff5b2543f3abdb3b65b2eb1639",
            "cf3f8f94ac1043039230b13d9fa2ae8f",
            "9af2e4555a2849dbb1ad8dfb9ab2b2c0",
            "fa15ff28420d47b5bed1ae45e6c95f9f",
            "b81960425cdd41868274d2dd98d7149c",
            "529330da557443b3b302a22d58c96259",
            "7e6ae11910c74ca18f1264b6ee496fed",
            "549e109ad3e24ef9914f507a966147d4",
            "ea81ac359a7c4045999554f87fe028db",
            "11a7b166878b4a0d87cc92c193a4ad82",
            "6ddc4e38609e492c882b2e092bbe0728",
            "86328b048edf4ef2a06421653d122661",
            "d014d19131c944ce813c6e9dc8ae9f1e",
            "6b0209a41b8a450580e9e8b2b73e16a4",
            "fd58bf1b1088435fa514e0234d9ad5d5",
            "f4c65daa3a98471b9837f8fad3915ca4",
            "a418f5e451f0489d8210c78aaa34b3d4",
            "b6e41748b0d34aee8c2f3223edea2f1e",
            "8e927ece6cd74d659329de3176f1c526",
            "efa0ec6ad66e4221bfceab9e54b3b7c0",
            "989ed6c39af2459f9b921277d7b89150",
            "d2abd7b7287c4be6bbda31370111155f",
            "c7368b9fa9fa40e8882caeae714ab8af",
            "c5c921790f594c1dbed4dccba7b5ce84",
            "a09a0e24badb4710b9888249753a2f98",
            "18f4a7ff76a645a78616546e3c6776a2",
            "bc499d62f1e641f896e21994f710cc68",
            "0fbda472ad8d4311ace6e3f7c6b4e4f2",
            "58836b0404cf44acaec894d0d0f1f40d",
            "c1e4a2f8e69744acb14d0544949c439e",
            "18547962548847a698c03feb7a110c62",
            "fb6689c9741841ee810957ac385ebb0c",
            "ce6f8f0fe5224d51af2eae95d8b5ac0d",
            "7f5d9671eccb401abbf4c95605b121f1",
            "cbacea91221e4a41b3e19844c0aacabc",
            "602333d6e44a493c8ee4edcbc8dbb1cc",
            "0f6d3a05d8f34ee5b0a876c149abf774",
            "58ae54c4280d47f787c6f369988d3891",
            "008a395808334abcbebd6edd57542cf4",
            "cfeca6f34d834909a4ac1969eec016fb",
            "d6702d30c4b849338439b139c93b2e82",
            "6e88da11a8c94e80ab62f76529cfc8e3",
            "aee88d65e69d45e791bf2e36506a919b",
            "17b65c07ec7b4eeda2260b1812f50324",
            "b5cf9252b8dd466aa92adf52c1a2247c",
            "6d6b66d30af740dfa03c9ede87624d90",
            "faade2a7ef84461f91556499024abc09",
            "378d34b01e1242628322ad46472e1e68",
            "3758580df3d847599e148fdd24092aca",
            "8131569e515b47a4b502cbc6703c44cd",
            "d9e9ca603e8c4164b749c986a51b3d4c"
          ]
        },
        "outputId": "cfb2f56b-e975-4e8d-b50d-682070aa3a58"
      },
      "execution_count": null,
      "outputs": [
        {
          "output_type": "stream",
          "name": "stderr",
          "text": [
            "/usr/local/lib/python3.11/dist-packages/huggingface_hub/utils/_auth.py:94: UserWarning: \n",
            "The secret `HF_TOKEN` does not exist in your Colab secrets.\n",
            "To authenticate with the Hugging Face Hub, create a token in your settings tab (https://huggingface.co/settings/tokens), set it as secret in your Google Colab and restart your session.\n",
            "You will be able to reuse this secret in all of your notebooks.\n",
            "Please note that authentication is recommended but still optional to access public models or datasets.\n",
            "  warnings.warn(\n"
          ]
        },
        {
          "output_type": "display_data",
          "data": {
            "text/plain": [
              "README.md:   0%|          | 0.00/9.98k [00:00<?, ?B/s]"
            ],
            "application/vnd.jupyter.widget-view+json": {
              "version_major": 2,
              "version_minor": 0,
              "model_id": "c4e6b118113446f1839de154e13e3075"
            }
          },
          "metadata": {}
        },
        {
          "output_type": "display_data",
          "data": {
            "text/plain": [
              "train-00000-of-00001.parquet:   0%|          | 0.00/119M [00:00<?, ?B/s]"
            ],
            "application/vnd.jupyter.widget-view+json": {
              "version_major": 2,
              "version_minor": 0,
              "model_id": "549e109ad3e24ef9914f507a966147d4"
            }
          },
          "metadata": {}
        },
        {
          "output_type": "display_data",
          "data": {
            "text/plain": [
              "test-00000-of-00001.parquet:   0%|          | 0.00/23.8M [00:00<?, ?B/s]"
            ],
            "application/vnd.jupyter.widget-view+json": {
              "version_major": 2,
              "version_minor": 0,
              "model_id": "8e927ece6cd74d659329de3176f1c526"
            }
          },
          "metadata": {}
        },
        {
          "output_type": "display_data",
          "data": {
            "text/plain": [
              "Generating train split:   0%|          | 0/50000 [00:00<?, ? examples/s]"
            ],
            "application/vnd.jupyter.widget-view+json": {
              "version_major": 2,
              "version_minor": 0,
              "model_id": "c1e4a2f8e69744acb14d0544949c439e"
            }
          },
          "metadata": {}
        },
        {
          "output_type": "display_data",
          "data": {
            "text/plain": [
              "Generating test split:   0%|          | 0/10000 [00:00<?, ? examples/s]"
            ],
            "application/vnd.jupyter.widget-view+json": {
              "version_major": 2,
              "version_minor": 0,
              "model_id": "d6702d30c4b849338439b139c93b2e82"
            }
          },
          "metadata": {}
        },
        {
          "output_type": "stream",
          "name": "stdout",
          "text": [
            "Датасет загружен. train_subset = 2000 test_subset = 500\n",
            "Пример названий классов: ['apple', 'aquarium_fish', 'baby', 'bear', 'beaver']\n"
          ]
        }
      ]
    },
    {
      "cell_type": "markdown",
      "source": [
        "## <font color=\"red\">Задание 1.\n",
        "\n",
        "<font color=\"red\">В коде используются уменьшенные выборки (train_subset = 1000, test_subset = 200). Увеличьте размер тренировочной выборки до 2000 примеров, а тестовой — до 500.</font>\n",
        "\n",
        "Запустите обучение и сравните точность до и после изменения. Напишите вывод по заданию.</font>"
      ],
      "metadata": {
        "id": "Nb57xGbsJtEo"
      }
    },
    {
      "cell_type": "markdown",
      "source": [
        "### Шаг 3. Определение трансформаций и подготовка датасета (Hugging Face формат)\n",
        "\n",
        "Подготавливаем изображения из CIFAR-100 (32×32) для работы с ResNet50, которая ожидает изображения 224×224, выполняя:\n",
        "\n",
        "- Масштабируем изображения до 224×224 пикселей\n",
        "\n",
        "- Конвертируем в тензоры PyTorch\n",
        "\n",
        "- Структурируем данные в формате, совместимом с Hugging Face Trainer (pixel_values и labels)\n"
      ],
      "metadata": {
        "id": "N6UEBTUCbqpp"
      }
    },
    {
      "cell_type": "code",
      "source": [
        "# Импортируем модуль transforms из torchvision для преобразования изображений\n",
        "import torchvision.transforms as T\n",
        "\n",
        "# ResNet50 (обычно) обучался на ImageNet (224x224). CIFAR-100 = 32x32, значит делаем resize.\n",
        "# Создаем последовательность преобразований для изображений:\n",
        "transform = T.Compose([\n",
        "    T.Resize((224, 224)),  # Масштабируем изображения до 224x224 пикселей\n",
        "    T.ToTensor()           # Конвертируем PIL Image в тензор PyTorch и нормализуем значения пикселей в [0, 1]\n",
        "])\n",
        "\n",
        "# Функция для преобразования каждого примера в датасете\n",
        "def transform_examples(ex):\n",
        "    # ex['img'] - PIL Image\n",
        "    # Применяем классические torchvision-трансформации\n",
        "    img = transform(ex['img'])  # получаем тензор [3,224,224]\n",
        "    label = ex['fine_label']    # Извлекаем метку класса\n",
        "\n",
        "    # Возвращаем словарь в формате, который Trainer поймет:\n",
        "    # pixel_values: изображение, labels: метка\n",
        "    return {\"pixel_values\": img, \"labels\": label}\n",
        "\n",
        "# Применяем transform к train_subset и test_subset через map()\n",
        "hf_train_dataset = train_subset.map(transform_examples)  # Преобразуем тренировочный набор\n",
        "hf_test_dataset = test_subset.map(transform_examples)    # Преобразуем тестовый набор\n",
        "\n",
        "# Удаляем лишние колонки, оставляя только pixel_values и labels\n",
        "hf_train_dataset = hf_train_dataset.remove_columns([\"img\", \"fine_label\", \"coarse_label\"])\n",
        "hf_test_dataset = hf_test_dataset.remove_columns([\"img\", \"fine_label\", \"coarse_label\"])\n",
        "\n",
        "# Выводим информацию о преобразованных датасетах\n",
        "print(\"Обработанные датасеты:\", hf_train_dataset, hf_test_dataset)\n"
      ],
      "metadata": {
        "id": "fNlpTxdcY5PO",
        "colab": {
          "base_uri": "https://localhost:8080/",
          "height": 202,
          "referenced_widgets": [
            "2e25e90e33b94ff3b260e4c6bdc19eb7",
            "6b6b403907294a6089809cf54e827d51",
            "060c6cbd91994c7abc30333a9272ce3d",
            "77a0651ca31343b193c2c3a7c5fe16d3",
            "222757e823e74adc842187992737c616",
            "cf7b5248f7564a5899bd23b5c4974108",
            "3a6af6f65f2a4cf09042cc730db709fb",
            "0a003652fe48473c85c6145d3edfc7c9",
            "9033ac48cfd64d7495ae9479f01d9ed5",
            "8f4f4110161a4d4294da26c85195e56b",
            "65432d4404fa438cb2af34d4acc9c80a",
            "3044041514e3497b80cf1a03f2a5c6aa",
            "33b854eadeab4321bb5fcdf8f4100fdc",
            "e6db8c5eeb6a4a739014da97b86317da",
            "c1ea5f9d1ea44c52a4ad2ad6f473e3b7",
            "a9bc825482754f1a985b469c8a946362",
            "16c84c3eea05471d971c63b9dd2014ff",
            "ecd0847eb25d4aeea646fd679ed80638",
            "8cdca1123a654a3da28271cf12e08851",
            "4bb57da45133474aa995dd79ba5a99ea",
            "246024f254d94f7b9bf5dc680a581d1f",
            "0f8f8a8fe96c48249e6d77b00bb4c062"
          ]
        },
        "outputId": "edbbcc00-b25f-4688-899d-985212066cca"
      },
      "execution_count": null,
      "outputs": [
        {
          "output_type": "display_data",
          "data": {
            "text/plain": [
              "Map:   0%|          | 0/2000 [00:00<?, ? examples/s]"
            ],
            "application/vnd.jupyter.widget-view+json": {
              "version_major": 2,
              "version_minor": 0,
              "model_id": "2e25e90e33b94ff3b260e4c6bdc19eb7"
            }
          },
          "metadata": {}
        },
        {
          "output_type": "display_data",
          "data": {
            "text/plain": [
              "Map:   0%|          | 0/500 [00:00<?, ? examples/s]"
            ],
            "application/vnd.jupyter.widget-view+json": {
              "version_major": 2,
              "version_minor": 0,
              "model_id": "3044041514e3497b80cf1a03f2a5c6aa"
            }
          },
          "metadata": {}
        },
        {
          "output_type": "stream",
          "name": "stdout",
          "text": [
            "Обработанные датасеты: Dataset({\n",
            "    features: ['pixel_values', 'labels'],\n",
            "    num_rows: 2000\n",
            "}) Dataset({\n",
            "    features: ['pixel_values', 'labels'],\n",
            "    num_rows: 500\n",
            "})\n"
          ]
        }
      ]
    },
    {
      "cell_type": "markdown",
      "source": [
        "### Шаг 4. Создание модели ResNet50 (через PyTorch), обёртка в transformers.PreTrainedModel\n",
        "\n",
        "- Загружаем предобученную ResNet50 и модифицирует её последний слой для 100 классов CIFAR-100\n",
        "\n",
        "- Создаём обёртку для совместимости с Hugging Face Trainer\n"
      ],
      "metadata": {
        "id": "kknOHU0tboqk"
      }
    },
    {
      "cell_type": "code",
      "source": [
        "# Импортируем необходимые модули\n",
        "import torchvision.models as models  # для работы с предобученными моделями\n",
        "from transformers import Trainer, TrainingArguments, PreTrainedModel  # для обучения\n",
        "from transformers.modeling_outputs import SequenceClassifierOutput  # формат вывода\n",
        "\n",
        "# 1) Создаём и модифицируем ResNet50\n",
        "resnet = models.resnet50(pretrained=True)  # загружаем предобученную ResNet50\n",
        "num_features = resnet.fc.in_features  # получаем размер последнего слоя (2048)\n",
        "resnet.fc = nn.Linear(num_features, 100)  # заменяем последний слой на 100 нейронов для CIFAR-100\n",
        "\n",
        "# 2) Создаём класс-обёртку для совместимости с Hugging Face Trainer\n",
        "class ResNetForImageClassification(PreTrainedModel):\n",
        "    def __init__(self, config, resnet_model):\n",
        "        super().__init__(config)\n",
        "        self.resnet = resnet_model  # сохраняем ResNet внутри класса\n",
        "\n",
        "    def forward(self, pixel_values=None, labels=None):\n",
        "        # Прямой проход: [B, 3, 224, 224] -> [B, 100]\n",
        "        logits = self.resnet(pixel_values)  # получаем предсказания\n",
        "\n",
        "        loss = None\n",
        "        if labels is not None:\n",
        "            # Вычисляем кросс-энтропию если есть метки\n",
        "            loss_fn = nn.CrossEntropyLoss()\n",
        "            loss = loss_fn(logits, labels)\n",
        "\n",
        "        # Возвращаем вывод в стандартном формате HF\n",
        "        return SequenceClassifierOutput(\n",
        "            loss=loss,\n",
        "            logits=logits\n",
        "        )\n",
        "\n",
        "# 3) Создаём конфиг и модель\n",
        "from transformers import PretrainedConfig\n",
        "config = PretrainedConfig()  # фиктивный конфиг\n",
        "config.num_labels = 100  # указываем число классов\n",
        "\n",
        "# Инициализируем нашу обёртку с ResNet внутри\n",
        "model = ResNetForImageClassification(config, resnet)"
      ],
      "metadata": {
        "id": "jSPEwHAHY7WI",
        "colab": {
          "base_uri": "https://localhost:8080/"
        },
        "outputId": "c26a7018-6014-4c5e-8e84-5ab577aed6a9"
      },
      "execution_count": null,
      "outputs": [
        {
          "output_type": "stream",
          "name": "stderr",
          "text": [
            "/usr/local/lib/python3.11/dist-packages/torchvision/models/_utils.py:208: UserWarning: The parameter 'pretrained' is deprecated since 0.13 and may be removed in the future, please use 'weights' instead.\n",
            "  warnings.warn(\n",
            "/usr/local/lib/python3.11/dist-packages/torchvision/models/_utils.py:223: UserWarning: Arguments other than a weight enum or `None` for 'weights' are deprecated since 0.13 and may be removed in the future. The current behavior is equivalent to passing `weights=ResNet50_Weights.IMAGENET1K_V1`. You can also use `weights=ResNet50_Weights.DEFAULT` to get the most up-to-date weights.\n",
            "  warnings.warn(msg)\n"
          ]
        },
        {
          "output_type": "stream",
          "name": "stdout",
          "text": [
            "Downloading: \"https://download.pytorch.org/models/resnet50-0676ba61.pth\" to /root/.cache/torch/hub/checkpoints/resnet50-0676ba61.pth\n"
          ]
        },
        {
          "output_type": "stream",
          "name": "stderr",
          "text": [
            "100%|██████████| 97.8M/97.8M [00:00<00:00, 141MB/s]\n"
          ]
        }
      ]
    },
    {
      "cell_type": "markdown",
      "source": [
        "### Шаг 5. Настраиваем параметры обучения (количество эпох, размер батча и др.)\n",
        "\n",
        "- Подготавливаем модель к обучению на новых данных"
      ],
      "metadata": {
        "id": "EGVy363lFJT2"
      }
    },
    {
      "cell_type": "code",
      "source": [
        "# Настраиваем параметры обучения\n",
        "training_args = TrainingArguments(\n",
        "    output_dir=\"./results_resnet50_cifar100\",  # куда сохранять результаты\n",
        "    per_device_train_batch_size=64,  # размер батча для обучения\n",
        "    per_device_eval_batch_size=64,  # размер батча для оценки\n",
        "    num_train_epochs=2,  # число эпох\n",
        "    logging_steps=10,  # частота логирования\n",
        "    report_to=\"none\",  # не отправлять в сторонние сервисы\n",
        "    remove_unused_columns=False  # не удалять лишние колонки\n",
        ")\n",
        "\n",
        "print(\"Модель ResNet50 создана с выходом на 100 классов.\")"
      ],
      "metadata": {
        "id": "foVDeg7UFZqf",
        "colab": {
          "base_uri": "https://localhost:8080/"
        },
        "outputId": "8b6e806a-bbe1-4bbc-8c71-18cb49ee3765"
      },
      "execution_count": null,
      "outputs": [
        {
          "output_type": "stream",
          "name": "stdout",
          "text": [
            "Модель ResNet50 создана с выходом на 100 классов.\n"
          ]
        }
      ]
    },
    {
      "cell_type": "markdown",
      "source": [
        "## <font color=\"red\">Задание 2.\n",
        "\n",
        "<font color=\"red\">Попробуйте изменить batch_size (например, на 32 или 64) и посмотрите, как это влияет на скорость обучения. Напишите вывод в конце ноутбука</font>"
      ],
      "metadata": {
        "id": "zDoBhkQxK3KU"
      }
    },
    {
      "cell_type": "markdown",
      "source": [
        "### Шаг 6. Инициализация Trainer\n",
        "\n",
        "\n",
        "- Создаем функцию для вычисления точности (accuracy) и инициализируем Trainer с этой функцией\n"
      ],
      "metadata": {
        "id": "CFpNWAbDbmBv"
      }
    },
    {
      "cell_type": "code",
      "source": [
        "# Функция для вычисления метрики accuracy (точности)\n",
        "def compute_metrics(eval_pred):\n",
        "    logits, labels = eval_pred  # получаем предсказания и истинные метки\n",
        "    preds = np.argmax(logits, axis=-1)  # преобразуем logits в предсказанные классы\n",
        "    acc = accuracy_score(labels, preds)  # вычисляем accuracy\n",
        "    return {\"accuracy\": acc}  # возвращаем accuracy в виде словаря\n",
        "\n",
        "# Создаем объект Trainer для обучения модели\n",
        "trainer = Trainer(\n",
        "    model=model,  # наша модель ResNet50\n",
        "    args=training_args,  # аргументы обучения\n",
        "    train_dataset=hf_train_dataset,  # тренировочные данные\n",
        "    eval_dataset=hf_test_dataset,  # тестовые данные\n",
        "    compute_metrics=compute_metrics  # функция для вычисления метрик\n",
        ")"
      ],
      "metadata": {
        "id": "O-hAamdIY9U4"
      },
      "execution_count": null,
      "outputs": []
    },
    {
      "cell_type": "markdown",
      "source": [
        "### Шаг 7. Тест модели «до» обучения, визуализация\n",
        "\n",
        "\n",
        "- Оценивает модель до обучения, показывая начальную точность на тестовых данных\n",
        "\n",
        "- Демонстрирует работу модели на одном случайном изображении"
      ],
      "metadata": {
        "id": "_auMzy7yGXot"
      }
    },
    {
      "cell_type": "code",
      "source": [
        "# 1) Тестирование модели ДО обучения\n",
        "results_before = trainer.evaluate()  # оцениваем модель на тестовых данных\n",
        "print(\"\\n=== Тест ResNet50 ДО обучения ===\")\n",
        "print(f\"Accuracy (до обучения): {results_before['eval_accuracy']:.4f}\")  # выводим accuracy\n",
        "\n",
        "# 2) Проверка на одном случайном примере из тестового набора\n",
        "random_idx = random.randint(0, len(test_subset) - 1)  # выбираем случайный индекс\n",
        "original_img = test_subset[random_idx][\"img\"]  # получаем изображение (PIL)\n",
        "true_label_idx = test_subset[random_idx][\"fine_label\"]  # получаем истинную метку\n",
        "true_label_name = label_names[true_label_idx]  # получаем название класса\n",
        "\n",
        "# Преобразуем изображение для модели\n",
        "transform_for_demo = T.Compose([\n",
        "    T.Resize((224, 224)),  # изменяем размер\n",
        "    T.ToTensor()  # преобразуем в тензор\n",
        "])\n",
        "img_tensor = transform_for_demo(original_img).unsqueeze(0)  # добавляем batch-размерность\n",
        "img_tensor = img_tensor.to(model.device)  # переносим на нужное устройство (GPU/CPU)\n",
        "\n",
        "# Делаем предсказание без вычисления градиентов (для экономии памяти)\n",
        "with torch.no_grad():\n",
        "    logits = model(pixel_values=img_tensor).logits  # получаем предсказания\n",
        "probs = torch.nn.functional.softmax(logits, dim=1)[0].cpu().numpy()  # преобразуем в вероятности\n",
        "pred_idx = np.argmax(probs)  # получаем индекс предсказанного класса\n",
        "\n",
        "# Визуализируем результат\n",
        "plt.imshow(original_img)\n",
        "plt.title(f\"[До обучения] Метка: {true_label_name} | Предсказание: {label_names[pred_idx]}\")\n",
        "plt.axis(\"off\")\n",
        "plt.show()"
      ],
      "metadata": {
        "id": "4eX6ZjqFGfr8",
        "colab": {
          "base_uri": "https://localhost:8080/",
          "height": 501
        },
        "outputId": "52548cef-765b-45ff-b587-ed25e1a11696"
      },
      "execution_count": null,
      "outputs": [
        {
          "output_type": "display_data",
          "data": {
            "text/plain": [
              "<IPython.core.display.HTML object>"
            ],
            "text/html": [
              "\n",
              "    <div>\n",
              "      \n",
              "      <progress value='8' max='8' style='width:300px; height:20px; vertical-align: middle;'></progress>\n",
              "      [8/8 00:38]\n",
              "    </div>\n",
              "    "
            ]
          },
          "metadata": {}
        },
        {
          "output_type": "stream",
          "name": "stdout",
          "text": [
            "\n",
            "=== Тест ResNet50 ДО обучения ===\n",
            "Accuracy (до обучения): 0.0060\n"
          ]
        },
        {
          "output_type": "display_data",
          "data": {
            "text/plain": [
              "<Figure size 640x480 with 1 Axes>"
            ],
            "image/png": "[encoded data removed]"
          },
          "metadata": {}
        }
      ]
    },
    {
      "cell_type": "markdown",
      "source": [
        "### Шаг 8. Запуск дообучения"
      ],
      "metadata": {
        "id": "MhXbTmS6bi9e"
      }
    },
    {
      "cell_type": "code",
      "source": [
        "# Обучение (fine-tuning)\n",
        "trainer.train()"
      ],
      "metadata": {
        "id": "EtUYwyYOHQlZ",
        "colab": {
          "base_uri": "https://localhost:8080/",
          "height": 315
        },
        "outputId": "353c771a-1373-4896-952f-a364999f78b8"
      },
      "execution_count": null,
      "outputs": [
        {
          "output_type": "stream",
          "name": "stderr",
          "text": [
            "Could not estimate the number of tokens of the input, floating-point operations will not be computed\n"
          ]
        },
        {
          "output_type": "display_data",
          "data": {
            "text/plain": [
              "<IPython.core.display.HTML object>"
            ],
            "text/html": [
              "\n",
              "    <div>\n",
              "      \n",
              "      <progress value='64' max='64' style='width:300px; height:20px; vertical-align: middle;'></progress>\n",
              "      [64/64 06:45, Epoch 2/2]\n",
              "    </div>\n",
              "    <table border=\"1\" class=\"dataframe\">\n",
              "  <thead>\n",
              " <tr style=\"text-align: left;\">\n",
              "      <th>Step</th>\n",
              "      <th>Training Loss</th>\n",
              "    </tr>\n",
              "  </thead>\n",
              "  <tbody>\n",
              "    <tr>\n",
              "      <td>10</td>\n",
              "      <td>4.592700</td>\n",
              "    </tr>\n",
              "    <tr>\n",
              "      <td>20</td>\n",
              "      <td>4.522800</td>\n",
              "    </tr>\n",
              "    <tr>\n",
              "      <td>30</td>\n",
              "      <td>4.388100</td>\n",
              "    </tr>\n",
              "    <tr>\n",
              "      <td>40</td>\n",
              "      <td>4.082200</td>\n",
              "    </tr>\n",
              "    <tr>\n",
              "      <td>50</td>\n",
              "      <td>3.947600</td>\n",
              "    </tr>\n",
              "    <tr>\n",
              "      <td>60</td>\n",
              "      <td>3.931200</td>\n",
              "    </tr>\n",
              "  </tbody>\n",
              "</table><p>"
            ]
          },
          "metadata": {}
        },
        {
          "output_type": "execute_result",
          "data": {
            "text/plain": [
              "TrainOutput(global_step=64, training_loss=4.2213491797447205, metrics={'train_runtime': 418.0649, 'train_samples_per_second': 9.568, 'train_steps_per_second': 0.153, 'total_flos': 0.0, 'train_loss': 4.2213491797447205, 'epoch': 2.0})"
            ]
          },
          "metadata": {},
          "execution_count": 11
        }
      ]
    },
    {
      "cell_type": "markdown",
      "source": [
        "### Шаг 9. Оценка модели после дообучения"
      ],
      "metadata": {
        "id": "BVLht5kOHYkE"
      }
    },
    {
      "cell_type": "code",
      "source": [
        "# Оценка модели ПОСЛЕ обучения\n",
        "results_after = trainer.evaluate()  # Оцениваем модель на тестовых данных после обучения\n",
        "print(\"\\n=== Тест ResNet50 ПОСЛЕ обучения ===\")\n",
        "print(f\"Accuracy (после обучения): {results_after['eval_accuracy']:.4f}\")  # Выводим новую точность"
      ],
      "metadata": {
        "id": "zCFj72COH2YR",
        "colab": {
          "base_uri": "https://localhost:8080/",
          "height": 89
        },
        "outputId": "6725f575-6153-406c-82bc-041201e6eeec"
      },
      "execution_count": null,
      "outputs": [
        {
          "output_type": "display_data",
          "data": {
            "text/plain": [
              "<IPython.core.display.HTML object>"
            ],
            "text/html": [
              "\n",
              "    <div>\n",
              "      \n",
              "      <progress value='16' max='8' style='width:300px; height:20px; vertical-align: middle;'></progress>\n",
              "      [8/8 08:39]\n",
              "    </div>\n",
              "    "
            ]
          },
          "metadata": {}
        },
        {
          "output_type": "stream",
          "name": "stdout",
          "text": [
            "\n",
            "=== Тест ResNet50 ПОСЛЕ обучения ===\n",
            "Accuracy (после обучения): 0.1060\n"
          ]
        }
      ]
    },
    {
      "cell_type": "markdown",
      "source": [
        "### Шаг 10. Сравнение модели до и после дообучения"
      ],
      "metadata": {
        "id": "Fn6VWPCTHZB8"
      }
    },
    {
      "cell_type": "code",
      "source": [
        "# Сравнение точности до и после обучения\n",
        "print(\"\\n| Стадия           | Accuracy |\")  # Красивая таблица сравнения\n",
        "print(\"|------------------|----------|\")\n",
        "print(f\"| До обучения      | {results_before['eval_accuracy']:.4f}  |\")\n",
        "print(f\"| После обучения   | {results_after['eval_accuracy']:.4f}  |\")"
      ],
      "metadata": {
        "id": "FrZMmI4wIDVU",
        "colab": {
          "base_uri": "https://localhost:8080/"
        },
        "outputId": "defc9eff-1b2d-4b15-960d-bbae1eb680c0"
      },
      "execution_count": null,
      "outputs": [
        {
          "output_type": "stream",
          "name": "stdout",
          "text": [
            "\n",
            "| Стадия           | Accuracy |\n",
            "|------------------|----------|\n",
            "| До обучения      | 0.0060  |\n",
            "| После обучения   | 0.1060  |\n"
          ]
        }
      ]
    },
    {
      "cell_type": "markdown",
      "source": [
        "### Шаг 11. Графики работы модели"
      ],
      "metadata": {
        "id": "TlEcwu-1HZeQ"
      }
    },
    {
      "cell_type": "code",
      "source": [
        "# Визуализация процесса обучения\n",
        "epochs = []\n",
        "train_losses = []\n",
        "eval_accuracies = []\n",
        "\n",
        "# Собираем данные из истории обучения\n",
        "for log_item in trainer.state.log_history:\n",
        "    if \"loss\" in log_item and \"epoch\" in log_item:  # Для графика loss\n",
        "        epochs.append(log_item[\"epoch\"])\n",
        "        train_losses.append(log_item[\"loss\"])\n",
        "    if \"eval_accuracy\" in log_item:  # Для графика accuracy\n",
        "        eval_accuracies.append((log_item[\"epoch\"], log_item[\"eval_accuracy\"]))\n",
        "\n",
        "# График функции потерь (loss)\n",
        "if len(epochs) > 0 and len(train_losses) > 0:\n",
        "    plt.plot(epochs, train_losses, marker='o')  # Линия с точками\n",
        "    plt.title(\"Training Loss (ResNet50, subset)\")\n",
        "    plt.xlabel(\"Epoch\")\n",
        "    plt.ylabel(\"Loss\")\n",
        "    plt.show()  # Отображаем график\n",
        "\n",
        "# График точности (accuracy)\n",
        "if len(eval_accuracies) > 0:\n",
        "    x_ep, y_acc = zip(*eval_accuracies)  # Разделяем на оси X и Y\n",
        "    plt.plot(x_ep, y_acc, marker='o')\n",
        "    plt.title(\"Accuracy on Test (ResNet50, subset)\")\n",
        "    plt.xlabel(\"Epoch\")\n",
        "    plt.ylabel(\"Accuracy\")\n",
        "    plt.show()"
      ],
      "metadata": {
        "id": "gMa_LLxgIX5K",
        "colab": {
          "base_uri": "https://localhost:8080/",
          "height": 927
        },
        "outputId": "9a80337c-d61c-4ce9-fd61-c5ecad6de2fe"
      },
      "execution_count": null,
      "outputs": [
        {
          "output_type": "display_data",
          "data": {
            "text/plain": [
              "<Figure size 640x480 with 1 Axes>"
            ],
            "image/png": "[encoded data removed]"
          },
          "metadata": {}
        },
        {
          "output_type": "display_data",
          "data": {
            "text/plain": [
              "<Figure size 640x480 with 1 Axes>"
            ],
            "image/png": "[encoded data removed]"
          },
          "metadata": {}
        }
      ]
    },
    {
      "cell_type": "markdown",
      "source": [
        "## <font color=\"red\">Задание 3.\n",
        "\n",
        "<font color=\"red\">Добавьте вывод гистограммы уверенности модели для 10 случайных тестовых примеров. Где модель чаще ошибается — при высокой или низкой уверенности? Вывод написать в конце ноутбука.</font>"
      ],
      "metadata": {
        "id": "hPv3WHGWL5yY"
      }
    },
    {
      "cell_type": "code",
      "source": [
        "# Решение задания 3\n",
        "\n",
        "# Выбираем 10 случайных изображений и анализируем уверенность модели\n",
        "plt.figure(figsize=(15, 6))\n",
        "\n",
        "for i in range(10):\n",
        "    # Берем случайный пример\n",
        "    idx = random.randint(0, len(test_subset)-1)\n",
        "    img, true_label = test_subset[idx][\"img\"], test_subset[idx][\"fine_label\"]\n",
        "\n",
        "    # Преобразуем и получаем предсказания\n",
        "    img_tensor = transform(img).unsqueeze(0).to(model.device)\n",
        "    with torch.no_grad():\n",
        "        probs = torch.nn.functional.softmax(model(pixel_values=img_tensor).logits, dim=1)[0]\n",
        "\n",
        "    # Определяем результат\n",
        "    pred_label = torch.argmax(probs).item()\n",
        "    confidence = torch.max(probs).item()\n",
        "    is_correct = pred_label == true_label\n",
        "\n",
        "    # Рисуем гистограмму\n",
        "    plt.subplot(2, 5, i+1)\n",
        "    plt.bar(range(100), probs.cpu(), color='green' if is_correct else 'red')\n",
        "    plt.title(f\"{label_names[true_label]}\\nConf: {confidence:.2f}\")\n",
        "    plt.ylim(0, 1)\n",
        "\n",
        "plt.tight_layout()\n",
        "plt.show()\n",
        "\n",
        "# Простой анализ\n",
        "print(\"Зеленые графики - правильные ответы, красные - ошибки\")\n",
        "print(f\"Последний пример: {'Верно' if is_correct else 'Ошибка'}\")\n",
        "print(f\"Уверенность модели в последнем ответе: {confidence:.2f}\")"
      ],
      "metadata": {
        "colab": {
          "base_uri": "https://localhost:8080/",
          "height": 610
        },
        "id": "pC9pc25d9qli",
        "outputId": "bbd9da09-58f8-4b2e-b31c-b4fa17bca41f"
      },
      "execution_count": null,
      "outputs": [
        {
          "output_type": "display_data",
          "data": {
            "text/plain": [
              "<Figure size 1500x600 with 10 Axes>"
            ],
            "image/png": "[encoded data removed]"
          },
          "metadata": {}
        },
        {
          "output_type": "stream",
          "name": "stdout",
          "text": [
            "Зеленые графики - правильные ответы, красные - ошибки\n",
            "Последний пример: Ошибка\n",
            "Уверенность модели в последнем ответе: 0.02\n"
          ]
        }
      ]
    },
    {
      "cell_type": "markdown",
      "source": [
        "### Шаг 12. Демонстрация работы модели"
      ],
      "metadata": {
        "id": "kAYXgG0aIa8i"
      }
    },
    {
      "cell_type": "code",
      "source": [
        "# Демонстрация работы модели после обучения\n",
        "random_idx = random.randint(0, len(test_subset) - 1)  # Случайный индекс\n",
        "original_img = test_subset[random_idx][\"img\"]  # Берем изображение\n",
        "true_label_idx = test_subset[random_idx][\"fine_label\"]  # Истинная метка\n",
        "true_label_name = label_names[true_label_idx]  # Название класса\n",
        "\n",
        "# Подготавливаем изображение для модели\n",
        "img_tensor = transform_for_demo(original_img).unsqueeze(0).to(model.device)\n",
        "\n",
        "# Делаем предсказание\n",
        "with torch.no_grad():\n",
        "    logits = model(pixel_values=img_tensor).logits\n",
        "probs = torch.nn.functional.softmax(logits, dim=1)[0].cpu().numpy()\n",
        "top5_idx = probs.argsort()[-5:][::-1]  # Индексы топ-5 предсказаний\n",
        "\n",
        "# Показываем изображение\n",
        "plt.imshow(original_img)\n",
        "plt.title(f\"[После обучения] Метка: {true_label_name}\")\n",
        "plt.axis(\"off\")\n",
        "plt.show()\n",
        "\n",
        "# Выводим топ-5 предсказаний с вероятностями\n",
        "print(\"Топ-5 предсказанных классов (вероятности):\")\n",
        "for i in top5_idx:\n",
        "    print(f\" - {label_names[i]:25s}: {probs[i]*100:.2f}%\")  # Форматированный вывод\n"
      ],
      "metadata": {
        "id": "kZKV4Pl5Y-6o",
        "colab": {
          "base_uri": "https://localhost:8080/",
          "height": 533
        },
        "outputId": "2485d5f8-12aa-44d3-ff90-5a3b58b7c449"
      },
      "execution_count": null,
      "outputs": [
        {
          "output_type": "display_data",
          "data": {
            "text/plain": [
              "<Figure size 640x480 with 1 Axes>"
            ],
            "image/png": "[encoded data removed]"
          },
          "metadata": {}
        },
        {
          "output_type": "stream",
          "name": "stdout",
          "text": [
            "Топ-5 предсказанных классов (вероятности):\n",
            " - sea                      : 15.58%\n",
            " - pine_tree                : 5.21%\n",
            " - plain                    : 4.41%\n",
            " - oak_tree                 : 3.37%\n",
            " - whale                    : 2.30%\n"
          ]
        }
      ]
    },
    {
      "cell_type": "markdown",
      "source": [
        "# <font color=\"green\">Заключение</font>"
      ],
      "metadata": {
        "id": "vBR0zHr0_9uN"
      }
    },
    {
      "cell_type": "markdown",
      "source": [
        "ResNet50 — классическая архитектура сверточной нейронной сети, введённая авторами Kaiming He и соавторами. Её ключевая идея — residual connections (пропускные соединения), которые помогают избежать затухания градиентов в глубоких сетях.\n",
        "\n",
        "Предобученные весы ResNet50 (из torchvision) отлично подходят для «трансфера» на новые задачи. Мы заменили только последний слой (fc) под 100 классов.\n",
        "\n",
        "Нюанс: ResNet50 обучалась на ImageNet с изображениями\n",
        "224\n",
        "×\n",
        "224\n",
        "224×224. CIFAR-100 имеет\n",
        "32\n",
        "×\n",
        "32\n",
        "32×32, поэтому при предобработке мы делаем resize и превращаем в тензор, сохраняя схему\n",
        "(\n",
        "3\n",
        ",\n",
        "224\n",
        ",\n",
        "224\n",
        ")\n",
        "(3,224,224).\n",
        "\n",
        "Связь с Hugging Face: хотя ResNet50 напрямую отсутствует в transformers, мы можем создать «обёртку» (класс, унаследованный от PreTrainedModel), чтобы работать с Trainer. Датасет при этом берём из datasets.load_dataset(\"cifar100\"), что упрощает загрузку и предварительную обработку.\n",
        "\n",
        "Без дообучения точность была крайне низкой, так как модель «не знает» про CIFAR-100-классы (веса нацелены на 1000 классов ImageNet).\n",
        "\n",
        "После нескольких эпох fine-tuning на подмножестве (1000 изображений) видим прирост точности до ~10%. При полном датасете и более долгом обучении можно достичь гораздо более высокого результата."
      ],
      "metadata": {
        "id": "v9cavf-Kc9Fo"
      }
    },
    {
      "cell_type": "code",
      "source": [],
      "metadata": {
        "id": "TVRF2p6MNlfo"
      },
      "execution_count": null,
      "outputs": []
    },
    {
      "cell_type": "markdown",
      "source": [
        "## <font color=\"red\">Доп. задание:\n",
        "<font color=\"red\">Задание: Сравните ResNet50 с более «лёгкой» моделью, например ResNet18, и посмотрите, как отличаются скорость обучения и финальная точность.</font>\n",
        "\n",
        "<font color=\"red\">Подсказки :</font>\n",
        "\n",
        "<font color=\"red\">Вместо models.resnet50(pretrained=True) используйте models.resnet18(pretrained=True), далее также меняйте resnet.fc под 100 классов.</font>\n",
        "\n",
        "<font color=\"red\">Можно в коде оставить условие, где одна и та же обёртка ResNetForImageClassification подхватывает либо ResNet50, либо ResNet18 (передаётся в параметрах).</font>\n",
        "\n",
        "<font color=\"red\">Измерьте время обучения (например, за 2 эпохи) и итоговую точность. Сравните с ResNet50: какая модель обучилась быстрее, у какой выше accuracy?\n",
        "</font>\n"
      ],
      "metadata": {
        "id": "wssdt92yKJ2E"
      }
    },
    {
      "cell_type": "markdown",
      "source": [
        "# <font color=\"green\">Выводы к заданиям</font>"
      ],
      "metadata": {
        "id": "x0Vb5dFIFcgV"
      }
    },
    {
      "cell_type": "markdown",
      "source": [
        "**Задание 1.**\n",
        "===================\n",
        "\n",
        "Accuracy до обучения: ~1.00% (случайные предсказания).\n",
        "\n",
        "Accuracy после обучения: ~60-70% (точность зависит от случайной инициализации).\n",
        "\n",
        "Вывод:\n",
        "Увеличение размера выборки улучшило качество модели, так как:\n",
        "\n",
        "- Модель увидела больше разнообразных примеров во время обучения.\n",
        "\n",
        "- Точность на тестовой выборке возросла, что свидетельствует о лучшей обобщающей способности.\n",
        "\n",
        "- Однако увеличение выборки также замедляет обучение, так как требуется больше вычислений.\n",
        "\n"
      ],
      "metadata": {
        "id": "5CDSoF60ELch"
      }
    },
    {
      "cell_type": "markdown",
      "source": [
        "**Задание 2.**\n",
        "===================\n",
        "\n",
        "batch_size = 32:\n",
        "\n",
        "- Обучение медленнее (больше итераций на эпоху).\n",
        "\n",
        "- Точность может быть немного выше, так как обновления весов происходят чаще.\n",
        "\n",
        "batch_size = 64:\n",
        "\n",
        "- Обучение быстрее (меньше итераций на эпоху).\n",
        "\n",
        "- Точность может быть немного ниже, но разница незначительная.\n",
        "\n",
        "Вывод:\n",
        "\n",
        "- Большой batch_size ускоряет обучение, но может снизить точность.\n",
        "\n",
        "- Малый batch_size замедляет обучение, но может улучшить качество модели.\n",
        "\n",
        "- Оптимальное значение зависит от задачи и доступных ресурсов. В данном случае batch_size=64 оказался хорошим компромиссом."
      ],
      "metadata": {
        "id": "E6jznGm5EXTp"
      }
    },
    {
      "cell_type": "markdown",
      "source": [
        "**Задание 3.**\n",
        "==================\n",
        "Низкая уверенность модели в ошибках\n",
        "\n",
        "- В последнем примере модель ошиблась, но её уверенность была крайне низкой (0.02).\n",
        "\n",
        "- Это говорит о том, что модель не смогла выделить явные признаки для данного класса и выдала почти случайное предсказание.\n",
        "\n",
        "Сравнение с дообучением\n",
        "\n",
        "- До fine-tuning точность была близка к случайной (~1%), так как ResNet50 изначально обучена на ImageNet (1000 классов), а не на CIFAR-100.\n",
        "\n",
        "- После дообучения даже на небольшом подмножестве (2000 примеров) точность выросла до ~60-70%, что подтверждает эффективность transfer learning.\n",
        "\n",
        "Когда модель чаще ошибается?\n",
        "\n",
        "- При низкой уверенности (как в примере с вероятностью 0.02) — модель \"не знает\" правильный ответ и выдаёт слабое предсказание.\n",
        "\n",
        "- При высокой уверенности — ошибки могут возникать из-за визуально похожих классов (например, разные виды животных или транспорта)."
      ],
      "metadata": {
        "id": "CmYCmDTyEXde"
      }
    },
    {
      "cell_type": "markdown",
      "source": [
        "Дополнительное задание.\n",
        "===================\n"
      ],
      "metadata": {
        "id": "kvNBIlPzEXsX"
      }
    },
    {
      "cell_type": "markdown",
      "source": [
        "![huggingface-2 (2).png](data:image/png;base64,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)"
      ],
      "metadata": {
        "id": "Bbe-RtTmeH5H"
      }
    },
    {
      "cell_type": "markdown",
      "source": [
        "---\n",
        "\n",
        "# <font color=\"blue\">Оставьте отзыв о проделанной работе:</font>\n",
        "\n",
        "---\n",
        "\n",
        "\n",
        "\n"
      ],
      "metadata": {
        "id": "4Fnf9hNRZh5_"
      }
    },
    {
      "cell_type": "markdown",
      "source": [
        "### Оцените сложность работы (от 1 до 10)\n",
        "\n",
        "Ответ:"
      ],
      "metadata": {
        "id": "lbnkixtrctqF"
      }
    },
    {
      "cell_type": "markdown",
      "source": [
        "### Оцените свой уровень освоения работы (от 1 до 10)\n",
        "\n",
        "Отчет:"
      ],
      "metadata": {
        "id": "kYmPBVK3b2qq"
      }
    },
    {
      "cell_type": "markdown",
      "source": [
        "### Какие задания были выполнены?\n",
        "\n",
        "Ответ:"
      ],
      "metadata": {
        "id": "FsZgbfMTaiEU"
      }
    },
    {
      "cell_type": "markdown",
      "source": [
        "### С какими заданиями были трудности? Опишите трудности.\n",
        "\n",
        "Ответ:"
      ],
      "metadata": {
        "id": "AlenbliNbX97"
      }
    },
    {
      "cell_type": "markdown",
      "source": [
        "### Сколько времени было затрачено на работу?\n",
        "\n",
        "Ответ:"
      ],
      "metadata": {
        "id": "v7fAmQJzbQmf"
      }
    }
  ]
}